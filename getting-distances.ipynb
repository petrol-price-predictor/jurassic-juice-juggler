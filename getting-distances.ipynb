{
 "cells": [
  {
   "attachments": {},
   "cell_type": "markdown",
   "metadata": {},
   "source": [
    "# Getting distances between stations\n",
    "A short intro to `src/distanceutils.py`\n",
    "\n",
    "Import the distanceutils to get some tools for... distances! You can calculate _geospatial_ distance between stations as well as average _car driving times_ between them."
   ]
  },
  {
   "attachments": {},
   "cell_type": "markdown",
   "metadata": {},
   "source": [
    "## Getting started\n",
    "Apart of some imports, we need a specially prepared dataframe with station information to store distances and durations later on."
   ]
  },
  {
   "cell_type": "code",
   "execution_count": 1,
   "metadata": {},
   "outputs": [
    {
     "data": {
      "text/html": [
       "<div>\n",
       "<style scoped>\n",
       "    .dataframe tbody tr th:only-of-type {\n",
       "        vertical-align: middle;\n",
       "    }\n",
       "\n",
       "    .dataframe tbody tr th {\n",
       "        vertical-align: top;\n",
       "    }\n",
       "\n",
       "    .dataframe thead th {\n",
       "        text-align: right;\n",
       "    }\n",
       "</style>\n",
       "<table border=\"1\" class=\"dataframe\">\n",
       "  <thead>\n",
       "    <tr style=\"text-align: right;\">\n",
       "      <th></th>\n",
       "      <th>Unnamed: 0</th>\n",
       "      <th>uuid</th>\n",
       "      <th>name</th>\n",
       "      <th>brand</th>\n",
       "      <th>street</th>\n",
       "      <th>house_number</th>\n",
       "      <th>post_code</th>\n",
       "      <th>city</th>\n",
       "      <th>latitude</th>\n",
       "      <th>longitude</th>\n",
       "      <th>first_active</th>\n",
       "      <th>openingtimes_json</th>\n",
       "      <th>file_date</th>\n",
       "    </tr>\n",
       "  </thead>\n",
       "  <tbody>\n",
       "    <tr>\n",
       "      <th>0</th>\n",
       "      <td>115</td>\n",
       "      <td>64ec825f-740c-477a-b7c2-2121154ee8a7</td>\n",
       "      <td>TotalEnergies Erkrath</td>\n",
       "      <td>TotalEnergies</td>\n",
       "      <td>Kirchstr.</td>\n",
       "      <td>23</td>\n",
       "      <td>40699</td>\n",
       "      <td>Erkrath</td>\n",
       "      <td>51.223767</td>\n",
       "      <td>6.916481</td>\n",
       "      <td>2014-03-18 16:45:31+01</td>\n",
       "      <td>{\"openingTimes\":[{\"applicable_days\":63,\"period...</td>\n",
       "      <td>2023-05-06</td>\n",
       "    </tr>\n",
       "    <tr>\n",
       "      <th>1</th>\n",
       "      <td>260</td>\n",
       "      <td>fd99c048-3b6b-4943-8b93-838daefba76b</td>\n",
       "      <td>Shell Duesseldorf Karlsruher Str. 45</td>\n",
       "      <td>Shell</td>\n",
       "      <td>Karlsruher Str.</td>\n",
       "      <td>45</td>\n",
       "      <td>40229</td>\n",
       "      <td>Duesseldorf</td>\n",
       "      <td>51.197512</td>\n",
       "      <td>6.841084</td>\n",
       "      <td>2014-03-18 16:45:31+01</td>\n",
       "      <td>{}</td>\n",
       "      <td>2023-05-06</td>\n",
       "    </tr>\n",
       "    <tr>\n",
       "      <th>2</th>\n",
       "      <td>393</td>\n",
       "      <td>1241bc5a-5571-4cee-bce0-d0ab82000d8c</td>\n",
       "      <td>Aral Tankstelle</td>\n",
       "      <td>ARAL</td>\n",
       "      <td>Südring</td>\n",
       "      <td>115</td>\n",
       "      <td>40221</td>\n",
       "      <td>Düsseldorf</td>\n",
       "      <td>51.201010</td>\n",
       "      <td>6.763259</td>\n",
       "      <td>2014-03-18 16:45:31+01</td>\n",
       "      <td>{}</td>\n",
       "      <td>2023-05-06</td>\n",
       "    </tr>\n",
       "    <tr>\n",
       "      <th>3</th>\n",
       "      <td>451</td>\n",
       "      <td>127035c1-a7c7-41db-9976-ab4cd14b7271</td>\n",
       "      <td>Aral Tankstelle</td>\n",
       "      <td>ARAL</td>\n",
       "      <td>Engelbertstraße</td>\n",
       "      <td>NaN</td>\n",
       "      <td>41462</td>\n",
       "      <td>Neuss</td>\n",
       "      <td>51.207104</td>\n",
       "      <td>6.671111</td>\n",
       "      <td>2014-03-18 16:45:31+01</td>\n",
       "      <td>{\"openingTimes\":[{\"applicable_days\":31,\"period...</td>\n",
       "      <td>2023-05-06</td>\n",
       "    </tr>\n",
       "    <tr>\n",
       "      <th>4</th>\n",
       "      <td>462</td>\n",
       "      <td>d7376c09-b449-4948-8706-15777971f03c</td>\n",
       "      <td>Aral Tankstelle</td>\n",
       "      <td>ARAL</td>\n",
       "      <td>Frankfurter Straße</td>\n",
       "      <td>323</td>\n",
       "      <td>40595</td>\n",
       "      <td>Düsseldorf</td>\n",
       "      <td>51.138004</td>\n",
       "      <td>6.904963</td>\n",
       "      <td>2014-03-18 16:45:31+01</td>\n",
       "      <td>{}</td>\n",
       "      <td>2023-05-06</td>\n",
       "    </tr>\n",
       "  </tbody>\n",
       "</table>\n",
       "</div>"
      ],
      "text/plain": [
       "   Unnamed: 0                                  uuid   \n",
       "0         115  64ec825f-740c-477a-b7c2-2121154ee8a7  \\\n",
       "1         260  fd99c048-3b6b-4943-8b93-838daefba76b   \n",
       "2         393  1241bc5a-5571-4cee-bce0-d0ab82000d8c   \n",
       "3         451  127035c1-a7c7-41db-9976-ab4cd14b7271   \n",
       "4         462  d7376c09-b449-4948-8706-15777971f03c   \n",
       "\n",
       "                                   name          brand              street   \n",
       "0                 TotalEnergies Erkrath  TotalEnergies          Kirchstr.   \\\n",
       "1  Shell Duesseldorf Karlsruher Str. 45          Shell     Karlsruher Str.   \n",
       "2                       Aral Tankstelle           ARAL             Südring   \n",
       "3                       Aral Tankstelle           ARAL     Engelbertstraße   \n",
       "4                       Aral Tankstelle           ARAL  Frankfurter Straße   \n",
       "\n",
       "  house_number  post_code         city   latitude  longitude   \n",
       "0           23      40699      Erkrath  51.223767   6.916481  \\\n",
       "1           45      40229  Duesseldorf  51.197512   6.841084   \n",
       "2          115      40221   Düsseldorf  51.201010   6.763259   \n",
       "3          NaN      41462        Neuss  51.207104   6.671111   \n",
       "4          323      40595   Düsseldorf  51.138004   6.904963   \n",
       "\n",
       "             first_active                                  openingtimes_json   \n",
       "0  2014-03-18 16:45:31+01  {\"openingTimes\":[{\"applicable_days\":63,\"period...  \\\n",
       "1  2014-03-18 16:45:31+01                                                 {}   \n",
       "2  2014-03-18 16:45:31+01                                                 {}   \n",
       "3  2014-03-18 16:45:31+01  {\"openingTimes\":[{\"applicable_days\":31,\"period...   \n",
       "4  2014-03-18 16:45:31+01                                                 {}   \n",
       "\n",
       "    file_date  \n",
       "0  2023-05-06  \n",
       "1  2023-05-06  \n",
       "2  2023-05-06  \n",
       "3  2023-05-06  \n",
       "4  2023-05-06  "
      ]
     },
     "execution_count": 1,
     "metadata": {},
     "output_type": "execute_result"
    }
   ],
   "source": [
    "import src.distanceutils as du\n",
    "\n",
    "# for a quick start, you can load an example station csv-file\n",
    "# (130 stations from Duesseldorf an surroundings) into a dataframe\n",
    "\n",
    "my_stations = du.load_station_file()\n",
    "my_stations.head()"
   ]
  },
  {
   "attachments": {},
   "cell_type": "markdown",
   "metadata": {},
   "source": [
    "---\n",
    "\n",
    "**Important**: The station list must have `uuid`, `latitude` and `longitude` columns. You will run into exceptions if your station dataframe fails to meet this requirement.\n",
    "\n",
    "---"
   ]
  },
  {
   "cell_type": "code",
   "execution_count": 2,
   "metadata": {},
   "outputs": [
    {
     "data": {
      "text/plain": [
       "(3, 13)"
      ]
     },
     "execution_count": 2,
     "metadata": {},
     "output_type": "execute_result"
    }
   ],
   "source": [
    "# we shorten the list - for now it's just about showing the principles\n",
    "my_stations = my_stations.loc[:2]\n",
    "my_stations.shape"
   ]
  },
  {
   "attachments": {},
   "cell_type": "markdown",
   "metadata": {},
   "source": [
    "### Getting a _station matrix_\n",
    "First thing to do is always to create a n*n matrix with all station uuids as index and as columns. This is done via the `create_station_matrix` method. It will create the needed structure as long as all needed columns (`uuid`, `latitude` and `longitude`) are present. Otherwise, it will throw an exception. "
   ]
  },
  {
   "cell_type": "code",
   "execution_count": 3,
   "metadata": {},
   "outputs": [
    {
     "name": "stderr",
     "output_type": "stream",
     "text": [
      "Adding station columns to matrix: 100%|██████████| 3/3 [00:00<00:00, 2227.06it/s]\n"
     ]
    },
    {
     "data": {
      "text/html": [
       "<div>\n",
       "<style scoped>\n",
       "    .dataframe tbody tr th:only-of-type {\n",
       "        vertical-align: middle;\n",
       "    }\n",
       "\n",
       "    .dataframe tbody tr th {\n",
       "        vertical-align: top;\n",
       "    }\n",
       "\n",
       "    .dataframe thead th {\n",
       "        text-align: right;\n",
       "    }\n",
       "</style>\n",
       "<table border=\"1\" class=\"dataframe\">\n",
       "  <thead>\n",
       "    <tr style=\"text-align: right;\">\n",
       "      <th></th>\n",
       "      <th>longitude</th>\n",
       "      <th>latitude</th>\n",
       "      <th>64ec825f-740c-477a-b7c2-2121154ee8a7</th>\n",
       "      <th>fd99c048-3b6b-4943-8b93-838daefba76b</th>\n",
       "      <th>1241bc5a-5571-4cee-bce0-d0ab82000d8c</th>\n",
       "    </tr>\n",
       "    <tr>\n",
       "      <th>uuid</th>\n",
       "      <th></th>\n",
       "      <th></th>\n",
       "      <th></th>\n",
       "      <th></th>\n",
       "      <th></th>\n",
       "    </tr>\n",
       "  </thead>\n",
       "  <tbody>\n",
       "    <tr>\n",
       "      <th>64ec825f-740c-477a-b7c2-2121154ee8a7</th>\n",
       "      <td>6.916481</td>\n",
       "      <td>51.223767</td>\n",
       "      <td>0</td>\n",
       "      <td>0</td>\n",
       "      <td>0</td>\n",
       "    </tr>\n",
       "    <tr>\n",
       "      <th>fd99c048-3b6b-4943-8b93-838daefba76b</th>\n",
       "      <td>6.841084</td>\n",
       "      <td>51.197512</td>\n",
       "      <td>0</td>\n",
       "      <td>0</td>\n",
       "      <td>0</td>\n",
       "    </tr>\n",
       "    <tr>\n",
       "      <th>1241bc5a-5571-4cee-bce0-d0ab82000d8c</th>\n",
       "      <td>6.763259</td>\n",
       "      <td>51.201010</td>\n",
       "      <td>0</td>\n",
       "      <td>0</td>\n",
       "      <td>0</td>\n",
       "    </tr>\n",
       "  </tbody>\n",
       "</table>\n",
       "</div>"
      ],
      "text/plain": [
       "                                      longitude   latitude   \n",
       "uuid                                                         \n",
       "64ec825f-740c-477a-b7c2-2121154ee8a7   6.916481  51.223767  \\\n",
       "fd99c048-3b6b-4943-8b93-838daefba76b   6.841084  51.197512   \n",
       "1241bc5a-5571-4cee-bce0-d0ab82000d8c   6.763259  51.201010   \n",
       "\n",
       "                                      64ec825f-740c-477a-b7c2-2121154ee8a7   \n",
       "uuid                                                                         \n",
       "64ec825f-740c-477a-b7c2-2121154ee8a7                                     0  \\\n",
       "fd99c048-3b6b-4943-8b93-838daefba76b                                     0   \n",
       "1241bc5a-5571-4cee-bce0-d0ab82000d8c                                     0   \n",
       "\n",
       "                                      fd99c048-3b6b-4943-8b93-838daefba76b   \n",
       "uuid                                                                         \n",
       "64ec825f-740c-477a-b7c2-2121154ee8a7                                     0  \\\n",
       "fd99c048-3b6b-4943-8b93-838daefba76b                                     0   \n",
       "1241bc5a-5571-4cee-bce0-d0ab82000d8c                                     0   \n",
       "\n",
       "                                      1241bc5a-5571-4cee-bce0-d0ab82000d8c  \n",
       "uuid                                                                        \n",
       "64ec825f-740c-477a-b7c2-2121154ee8a7                                     0  \n",
       "fd99c048-3b6b-4943-8b93-838daefba76b                                     0  \n",
       "1241bc5a-5571-4cee-bce0-d0ab82000d8c                                     0  "
      ]
     },
     "execution_count": 3,
     "metadata": {},
     "output_type": "execute_result"
    }
   ],
   "source": [
    "#\n",
    "# create a station matrix to fill up later\n",
    "#\n",
    "my_station_matrix = du.create_station_matrix(my_stations)\n",
    "my_station_matrix.head()\n"
   ]
  },
  {
   "attachments": {},
   "cell_type": "markdown",
   "metadata": {},
   "source": [
    "Note that `uuid` became a dataframe index - this makes distance/duration lookups way easier later on."
   ]
  },
  {
   "attachments": {},
   "cell_type": "markdown",
   "metadata": {},
   "source": [
    "## Geospatial distances\n",
    "With a proper stations matrix at hand, we can fill it up with geospatial distances (in km). Just call `create_distance_matrix` on it."
   ]
  },
  {
   "cell_type": "code",
   "execution_count": 4,
   "metadata": {},
   "outputs": [
    {
     "name": "stderr",
     "output_type": "stream",
     "text": [
      "Calculating distances for stations: 100%|██████████| 3/3 [00:00<00:00, 410.00it/s]\n"
     ]
    },
    {
     "data": {
      "text/html": [
       "<div>\n",
       "<style scoped>\n",
       "    .dataframe tbody tr th:only-of-type {\n",
       "        vertical-align: middle;\n",
       "    }\n",
       "\n",
       "    .dataframe tbody tr th {\n",
       "        vertical-align: top;\n",
       "    }\n",
       "\n",
       "    .dataframe thead th {\n",
       "        text-align: right;\n",
       "    }\n",
       "</style>\n",
       "<table border=\"1\" class=\"dataframe\">\n",
       "  <thead>\n",
       "    <tr style=\"text-align: right;\">\n",
       "      <th></th>\n",
       "      <th>longitude</th>\n",
       "      <th>latitude</th>\n",
       "      <th>64ec825f-740c-477a-b7c2-2121154ee8a7</th>\n",
       "      <th>fd99c048-3b6b-4943-8b93-838daefba76b</th>\n",
       "      <th>1241bc5a-5571-4cee-bce0-d0ab82000d8c</th>\n",
       "    </tr>\n",
       "    <tr>\n",
       "      <th>uuid</th>\n",
       "      <th></th>\n",
       "      <th></th>\n",
       "      <th></th>\n",
       "      <th></th>\n",
       "      <th></th>\n",
       "    </tr>\n",
       "  </thead>\n",
       "  <tbody>\n",
       "    <tr>\n",
       "      <th>64ec825f-740c-477a-b7c2-2121154ee8a7</th>\n",
       "      <td>6.916481</td>\n",
       "      <td>51.223767</td>\n",
       "      <td>0.000000</td>\n",
       "      <td>6.008945</td>\n",
       "      <td>10.968770</td>\n",
       "    </tr>\n",
       "    <tr>\n",
       "      <th>fd99c048-3b6b-4943-8b93-838daefba76b</th>\n",
       "      <td>6.841084</td>\n",
       "      <td>51.197512</td>\n",
       "      <td>6.008945</td>\n",
       "      <td>0.000000</td>\n",
       "      <td>5.436489</td>\n",
       "    </tr>\n",
       "    <tr>\n",
       "      <th>1241bc5a-5571-4cee-bce0-d0ab82000d8c</th>\n",
       "      <td>6.763259</td>\n",
       "      <td>51.201010</td>\n",
       "      <td>10.968770</td>\n",
       "      <td>5.436489</td>\n",
       "      <td>0.000000</td>\n",
       "    </tr>\n",
       "  </tbody>\n",
       "</table>\n",
       "</div>"
      ],
      "text/plain": [
       "                                      longitude   latitude   \n",
       "uuid                                                         \n",
       "64ec825f-740c-477a-b7c2-2121154ee8a7   6.916481  51.223767  \\\n",
       "fd99c048-3b6b-4943-8b93-838daefba76b   6.841084  51.197512   \n",
       "1241bc5a-5571-4cee-bce0-d0ab82000d8c   6.763259  51.201010   \n",
       "\n",
       "                                      64ec825f-740c-477a-b7c2-2121154ee8a7   \n",
       "uuid                                                                         \n",
       "64ec825f-740c-477a-b7c2-2121154ee8a7                              0.000000  \\\n",
       "fd99c048-3b6b-4943-8b93-838daefba76b                              6.008945   \n",
       "1241bc5a-5571-4cee-bce0-d0ab82000d8c                             10.968770   \n",
       "\n",
       "                                      fd99c048-3b6b-4943-8b93-838daefba76b   \n",
       "uuid                                                                         \n",
       "64ec825f-740c-477a-b7c2-2121154ee8a7                              6.008945  \\\n",
       "fd99c048-3b6b-4943-8b93-838daefba76b                              0.000000   \n",
       "1241bc5a-5571-4cee-bce0-d0ab82000d8c                              5.436489   \n",
       "\n",
       "                                      1241bc5a-5571-4cee-bce0-d0ab82000d8c  \n",
       "uuid                                                                        \n",
       "64ec825f-740c-477a-b7c2-2121154ee8a7                             10.968770  \n",
       "fd99c048-3b6b-4943-8b93-838daefba76b                              5.436489  \n",
       "1241bc5a-5571-4cee-bce0-d0ab82000d8c                              0.000000  "
      ]
     },
     "execution_count": 4,
     "metadata": {},
     "output_type": "execute_result"
    }
   ],
   "source": [
    "#\n",
    "# calculating distances and filling up the matrix\n",
    "#\n",
    "my_distance_matrix = du.create_distance_matrix(my_station_matrix)\n",
    "my_distance_matrix.head()"
   ]
  },
  {
   "attachments": {},
   "cell_type": "markdown",
   "metadata": {},
   "source": [
    "You can now look up the distance between two stations using their uuids:\n"
   ]
  },
  {
   "cell_type": "code",
   "execution_count": 6,
   "metadata": {},
   "outputs": [
    {
     "name": "stdout",
     "output_type": "stream",
     "text": [
      "6.008945120260507\n"
     ]
    }
   ],
   "source": [
    "#\n",
    "# example distance lookup\n",
    "#\n",
    "origin = \"64ec825f-740c-477a-b7c2-2121154ee8a7\"\n",
    "destination = \"fd99c048-3b6b-4943-8b93-838daefba76b\"\n",
    "distance = my_distance_matrix.loc[origin, destination]\n",
    "\n",
    "print(distance)"
   ]
  },
  {
   "attachments": {},
   "cell_type": "markdown",
   "metadata": {},
   "source": [
    "## Driving time durations\n",
    "Durations are pulled via the Matrix API call of [openrouteservice.org](https://openrouteservice.org/dev/#/api-docs/matrix). The limits of the free service are 500 request per day and max. 40 requests per second.\n",
    "\n",
    "Getting driving time durations works the same way as getting the distances. The method to use is called `create_duration_matrix`.\n",
    "\n",
    "For up to 50 stations the method will pull a complete duration matrix from openrouteservice.org in just one single (and very fast) API call. For more than 50 stations, the method reverts to doing as many single calls as there are stations. Currently, the method has a **hard-coded limit of 250 stations** to avoid consuming all available API call with just one shot."
   ]
  },
  {
   "cell_type": "code",
   "execution_count": 4,
   "metadata": {},
   "outputs": [
    {
     "name": "stdout",
     "output_type": "stream",
     "text": [
      "The ORS API reported the error: 403 ({'error': 'Access to this API has been disallowed'})\n",
      "No durations have been filled into your matrix.\n"
     ]
    },
    {
     "data": {
      "text/html": [
       "<div>\n",
       "<style scoped>\n",
       "    .dataframe tbody tr th:only-of-type {\n",
       "        vertical-align: middle;\n",
       "    }\n",
       "\n",
       "    .dataframe tbody tr th {\n",
       "        vertical-align: top;\n",
       "    }\n",
       "\n",
       "    .dataframe thead th {\n",
       "        text-align: right;\n",
       "    }\n",
       "</style>\n",
       "<table border=\"1\" class=\"dataframe\">\n",
       "  <thead>\n",
       "    <tr style=\"text-align: right;\">\n",
       "      <th></th>\n",
       "      <th>longitude</th>\n",
       "      <th>latitude</th>\n",
       "      <th>64ec825f-740c-477a-b7c2-2121154ee8a7</th>\n",
       "      <th>fd99c048-3b6b-4943-8b93-838daefba76b</th>\n",
       "      <th>1241bc5a-5571-4cee-bce0-d0ab82000d8c</th>\n",
       "    </tr>\n",
       "    <tr>\n",
       "      <th>uuid</th>\n",
       "      <th></th>\n",
       "      <th></th>\n",
       "      <th></th>\n",
       "      <th></th>\n",
       "      <th></th>\n",
       "    </tr>\n",
       "  </thead>\n",
       "  <tbody>\n",
       "    <tr>\n",
       "      <th>64ec825f-740c-477a-b7c2-2121154ee8a7</th>\n",
       "      <td>6.916481</td>\n",
       "      <td>51.223767</td>\n",
       "      <td>0</td>\n",
       "      <td>0</td>\n",
       "      <td>0</td>\n",
       "    </tr>\n",
       "    <tr>\n",
       "      <th>fd99c048-3b6b-4943-8b93-838daefba76b</th>\n",
       "      <td>6.841084</td>\n",
       "      <td>51.197512</td>\n",
       "      <td>0</td>\n",
       "      <td>0</td>\n",
       "      <td>0</td>\n",
       "    </tr>\n",
       "    <tr>\n",
       "      <th>1241bc5a-5571-4cee-bce0-d0ab82000d8c</th>\n",
       "      <td>6.763259</td>\n",
       "      <td>51.201010</td>\n",
       "      <td>0</td>\n",
       "      <td>0</td>\n",
       "      <td>0</td>\n",
       "    </tr>\n",
       "  </tbody>\n",
       "</table>\n",
       "</div>"
      ],
      "text/plain": [
       "                                      longitude   latitude   \n",
       "uuid                                                         \n",
       "64ec825f-740c-477a-b7c2-2121154ee8a7   6.916481  51.223767  \\\n",
       "fd99c048-3b6b-4943-8b93-838daefba76b   6.841084  51.197512   \n",
       "1241bc5a-5571-4cee-bce0-d0ab82000d8c   6.763259  51.201010   \n",
       "\n",
       "                                      64ec825f-740c-477a-b7c2-2121154ee8a7   \n",
       "uuid                                                                         \n",
       "64ec825f-740c-477a-b7c2-2121154ee8a7                                     0  \\\n",
       "fd99c048-3b6b-4943-8b93-838daefba76b                                     0   \n",
       "1241bc5a-5571-4cee-bce0-d0ab82000d8c                                     0   \n",
       "\n",
       "                                      fd99c048-3b6b-4943-8b93-838daefba76b   \n",
       "uuid                                                                         \n",
       "64ec825f-740c-477a-b7c2-2121154ee8a7                                     0  \\\n",
       "fd99c048-3b6b-4943-8b93-838daefba76b                                     0   \n",
       "1241bc5a-5571-4cee-bce0-d0ab82000d8c                                     0   \n",
       "\n",
       "                                      1241bc5a-5571-4cee-bce0-d0ab82000d8c  \n",
       "uuid                                                                        \n",
       "64ec825f-740c-477a-b7c2-2121154ee8a7                                     0  \n",
       "fd99c048-3b6b-4943-8b93-838daefba76b                                     0  \n",
       "1241bc5a-5571-4cee-bce0-d0ab82000d8c                                     0  "
      ]
     },
     "execution_count": 4,
     "metadata": {},
     "output_type": "execute_result"
    }
   ],
   "source": [
    "#\n",
    "# calculating durations and filling up the matrix\n",
    "#\n",
    "my_duration_matrix = du.create_duration_matrix(my_station_matrix)\n",
    "my_duration_matrix.head()"
   ]
  },
  {
   "attachments": {},
   "cell_type": "markdown",
   "metadata": {},
   "source": [
    "Note that the API really calculates driving durations: getting from A to B will not result in the same duration as getting from B to A."
   ]
  },
  {
   "attachments": {},
   "cell_type": "markdown",
   "metadata": {},
   "source": [
    "## That's it."
   ]
  }
 ],
 "metadata": {
  "kernelspec": {
   "display_name": "Python 3",
   "language": "python",
   "name": "python3"
  },
  "language_info": {
   "codemirror_mode": {
    "name": "ipython",
    "version": 3
   },
   "file_extension": ".py",
   "mimetype": "text/x-python",
   "name": "python",
   "nbconvert_exporter": "python",
   "pygments_lexer": "ipython3",
   "version": "3.9.8"
  },
  "orig_nbformat": 4
 },
 "nbformat": 4,
 "nbformat_minor": 2
}
