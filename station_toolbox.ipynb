{
 "cells": [
  {
   "attachments": {},
   "cell_type": "markdown",
   "metadata": {},
   "source": [
    "# Stations Toolbox"
   ]
  },
  {
   "cell_type": "code",
   "execution_count": 61,
   "metadata": {},
   "outputs": [],
   "source": [
    "import pandas as pd\n",
    "import numpy as np\n",
    "import matplotlib.pyplot as plt\n",
    "import seaborn as sns\n",
    "import plotly.express as px\n",
    "\n",
    "import src.distanceutils as du\n"
   ]
  },
  {
   "cell_type": "code",
   "execution_count": 5,
   "metadata": {},
   "outputs": [
    {
     "data": {
      "text/html": [
       "<div>\n",
       "<style scoped>\n",
       "    .dataframe tbody tr th:only-of-type {\n",
       "        vertical-align: middle;\n",
       "    }\n",
       "\n",
       "    .dataframe tbody tr th {\n",
       "        vertical-align: top;\n",
       "    }\n",
       "\n",
       "    .dataframe thead th {\n",
       "        text-align: right;\n",
       "    }\n",
       "</style>\n",
       "<table border=\"1\" class=\"dataframe\">\n",
       "  <thead>\n",
       "    <tr style=\"text-align: right;\">\n",
       "      <th></th>\n",
       "      <th>Unnamed: 0</th>\n",
       "      <th>uuid</th>\n",
       "      <th>name</th>\n",
       "      <th>brand</th>\n",
       "      <th>street</th>\n",
       "      <th>house_number</th>\n",
       "      <th>post_code</th>\n",
       "      <th>city</th>\n",
       "      <th>latitude</th>\n",
       "      <th>longitude</th>\n",
       "      <th>first_active</th>\n",
       "      <th>openingtimes_json</th>\n",
       "      <th>file_date</th>\n",
       "    </tr>\n",
       "  </thead>\n",
       "  <tbody>\n",
       "    <tr>\n",
       "      <th>0</th>\n",
       "      <td>115</td>\n",
       "      <td>64ec825f-740c-477a-b7c2-2121154ee8a7</td>\n",
       "      <td>TotalEnergies Erkrath</td>\n",
       "      <td>TotalEnergies</td>\n",
       "      <td>Kirchstr.</td>\n",
       "      <td>23</td>\n",
       "      <td>40699</td>\n",
       "      <td>Erkrath</td>\n",
       "      <td>51.223767</td>\n",
       "      <td>6.916481</td>\n",
       "      <td>2014-03-18 16:45:31+01</td>\n",
       "      <td>{\"openingTimes\":[{\"applicable_days\":63,\"period...</td>\n",
       "      <td>2023-05-06</td>\n",
       "    </tr>\n",
       "    <tr>\n",
       "      <th>1</th>\n",
       "      <td>260</td>\n",
       "      <td>fd99c048-3b6b-4943-8b93-838daefba76b</td>\n",
       "      <td>Shell Duesseldorf Karlsruher Str. 45</td>\n",
       "      <td>Shell</td>\n",
       "      <td>Karlsruher Str.</td>\n",
       "      <td>45</td>\n",
       "      <td>40229</td>\n",
       "      <td>Duesseldorf</td>\n",
       "      <td>51.197512</td>\n",
       "      <td>6.841084</td>\n",
       "      <td>2014-03-18 16:45:31+01</td>\n",
       "      <td>{}</td>\n",
       "      <td>2023-05-06</td>\n",
       "    </tr>\n",
       "    <tr>\n",
       "      <th>2</th>\n",
       "      <td>393</td>\n",
       "      <td>1241bc5a-5571-4cee-bce0-d0ab82000d8c</td>\n",
       "      <td>Aral Tankstelle</td>\n",
       "      <td>ARAL</td>\n",
       "      <td>Südring</td>\n",
       "      <td>115</td>\n",
       "      <td>40221</td>\n",
       "      <td>Düsseldorf</td>\n",
       "      <td>51.201010</td>\n",
       "      <td>6.763259</td>\n",
       "      <td>2014-03-18 16:45:31+01</td>\n",
       "      <td>{}</td>\n",
       "      <td>2023-05-06</td>\n",
       "    </tr>\n",
       "  </tbody>\n",
       "</table>\n",
       "</div>"
      ],
      "text/plain": [
       "   Unnamed: 0                                  uuid   \n",
       "0         115  64ec825f-740c-477a-b7c2-2121154ee8a7  \\\n",
       "1         260  fd99c048-3b6b-4943-8b93-838daefba76b   \n",
       "2         393  1241bc5a-5571-4cee-bce0-d0ab82000d8c   \n",
       "\n",
       "                                   name          brand           street   \n",
       "0                 TotalEnergies Erkrath  TotalEnergies       Kirchstr.   \\\n",
       "1  Shell Duesseldorf Karlsruher Str. 45          Shell  Karlsruher Str.   \n",
       "2                       Aral Tankstelle           ARAL          Südring   \n",
       "\n",
       "  house_number  post_code         city   latitude  longitude   \n",
       "0           23      40699      Erkrath  51.223767   6.916481  \\\n",
       "1           45      40229  Duesseldorf  51.197512   6.841084   \n",
       "2          115      40221   Düsseldorf  51.201010   6.763259   \n",
       "\n",
       "             first_active                                  openingtimes_json   \n",
       "0  2014-03-18 16:45:31+01  {\"openingTimes\":[{\"applicable_days\":63,\"period...  \\\n",
       "1  2014-03-18 16:45:31+01                                                 {}   \n",
       "2  2014-03-18 16:45:31+01                                                 {}   \n",
       "\n",
       "    file_date  \n",
       "0  2023-05-06  \n",
       "1  2023-05-06  \n",
       "2  2023-05-06  "
      ]
     },
     "execution_count": 5,
     "metadata": {},
     "output_type": "execute_result"
    }
   ],
   "source": [
    "# get the Düsseldorf sample\n",
    "\n",
    "stations = pd.read_csv(\"data/sample/stations/stations_dus_plus.csv\")\n",
    "stations.head(3)"
   ]
  },
  {
   "cell_type": "code",
   "execution_count": 6,
   "metadata": {},
   "outputs": [
    {
     "data": {
      "text/html": [
       "<div>\n",
       "<style scoped>\n",
       "    .dataframe tbody tr th:only-of-type {\n",
       "        vertical-align: middle;\n",
       "    }\n",
       "\n",
       "    .dataframe tbody tr th {\n",
       "        vertical-align: top;\n",
       "    }\n",
       "\n",
       "    .dataframe thead th {\n",
       "        text-align: right;\n",
       "    }\n",
       "</style>\n",
       "<table border=\"1\" class=\"dataframe\">\n",
       "  <thead>\n",
       "    <tr style=\"text-align: right;\">\n",
       "      <th></th>\n",
       "      <th>uuid</th>\n",
       "      <th>longitude</th>\n",
       "      <th>latitude</th>\n",
       "      <th>64ec825f-740c-477a-b7c2-2121154ee8a7</th>\n",
       "      <th>fd99c048-3b6b-4943-8b93-838daefba76b</th>\n",
       "      <th>1241bc5a-5571-4cee-bce0-d0ab82000d8c</th>\n",
       "      <th>127035c1-a7c7-41db-9976-ab4cd14b7271</th>\n",
       "      <th>d7376c09-b449-4948-8706-15777971f03c</th>\n",
       "      <th>8d3cd774-8fb2-41d4-856a-26b299bfb8d8</th>\n",
       "      <th>d27a7d15-3fc1-4880-88bd-e981ff6ed5f9</th>\n",
       "      <th>...</th>\n",
       "      <th>4eb30190-3a75-423f-a29b-845d12263c4e</th>\n",
       "      <th>d08f7052-f3cf-4374-b96b-ee46b55adfcd</th>\n",
       "      <th>eaba7fbc-709f-422d-979f-4d1e4816c6cc</th>\n",
       "      <th>1a3afe4f-3a92-49ac-a453-7bcdf0c4f47b</th>\n",
       "      <th>82119d5d-775f-42af-ac56-000d7c91413f</th>\n",
       "      <th>c46c827b-be21-4444-bb79-930ccc3696c8</th>\n",
       "      <th>011ba4a2-c12b-4d3f-a96d-8cbf1d1e8585</th>\n",
       "      <th>da6f245b-5aa2-419c-b00e-5daf159bdfc1</th>\n",
       "      <th>9266bc0b-6912-628d-d843-3c53b66d6195</th>\n",
       "      <th>9c9d07ab-515a-54aa-0bac-df556a1f654b</th>\n",
       "    </tr>\n",
       "  </thead>\n",
       "  <tbody>\n",
       "    <tr>\n",
       "      <th>0</th>\n",
       "      <td>64ec825f-740c-477a-b7c2-2121154ee8a7</td>\n",
       "      <td>6.916481</td>\n",
       "      <td>51.223767</td>\n",
       "      <td>0.00</td>\n",
       "      <td>906.62</td>\n",
       "      <td>1213.47</td>\n",
       "      <td>1712.71</td>\n",
       "      <td>1019.91</td>\n",
       "      <td>1079.37</td>\n",
       "      <td>1793.59</td>\n",
       "      <td>...</td>\n",
       "      <td>1146.98</td>\n",
       "      <td>1875.60</td>\n",
       "      <td>1015.65</td>\n",
       "      <td>1599.86</td>\n",
       "      <td>924.25</td>\n",
       "      <td>713.65</td>\n",
       "      <td>1436.90</td>\n",
       "      <td>1437.30</td>\n",
       "      <td>1895.89</td>\n",
       "      <td>1141.87</td>\n",
       "    </tr>\n",
       "    <tr>\n",
       "      <th>1</th>\n",
       "      <td>fd99c048-3b6b-4943-8b93-838daefba76b</td>\n",
       "      <td>6.841084</td>\n",
       "      <td>51.197512</td>\n",
       "      <td>932.10</td>\n",
       "      <td>0.00</td>\n",
       "      <td>881.74</td>\n",
       "      <td>1380.97</td>\n",
       "      <td>719.36</td>\n",
       "      <td>747.64</td>\n",
       "      <td>1222.59</td>\n",
       "      <td>...</td>\n",
       "      <td>1357.63</td>\n",
       "      <td>1667.29</td>\n",
       "      <td>366.20</td>\n",
       "      <td>1633.00</td>\n",
       "      <td>1065.48</td>\n",
       "      <td>397.09</td>\n",
       "      <td>1233.21</td>\n",
       "      <td>1233.61</td>\n",
       "      <td>1564.15</td>\n",
       "      <td>1352.52</td>\n",
       "    </tr>\n",
       "    <tr>\n",
       "      <th>2</th>\n",
       "      <td>1241bc5a-5571-4cee-bce0-d0ab82000d8c</td>\n",
       "      <td>6.763259</td>\n",
       "      <td>51.201010</td>\n",
       "      <td>1188.47</td>\n",
       "      <td>821.98</td>\n",
       "      <td>0.00</td>\n",
       "      <td>916.49</td>\n",
       "      <td>965.98</td>\n",
       "      <td>228.30</td>\n",
       "      <td>778.76</td>\n",
       "      <td>...</td>\n",
       "      <td>1604.14</td>\n",
       "      <td>1202.81</td>\n",
       "      <td>564.27</td>\n",
       "      <td>1334.94</td>\n",
       "      <td>1311.99</td>\n",
       "      <td>591.66</td>\n",
       "      <td>1176.59</td>\n",
       "      <td>1176.99</td>\n",
       "      <td>1099.67</td>\n",
       "      <td>1599.03</td>\n",
       "    </tr>\n",
       "  </tbody>\n",
       "</table>\n",
       "<p>3 rows × 133 columns</p>\n",
       "</div>"
      ],
      "text/plain": [
       "                                   uuid  longitude   latitude   \n",
       "0  64ec825f-740c-477a-b7c2-2121154ee8a7   6.916481  51.223767  \\\n",
       "1  fd99c048-3b6b-4943-8b93-838daefba76b   6.841084  51.197512   \n",
       "2  1241bc5a-5571-4cee-bce0-d0ab82000d8c   6.763259  51.201010   \n",
       "\n",
       "   64ec825f-740c-477a-b7c2-2121154ee8a7  fd99c048-3b6b-4943-8b93-838daefba76b   \n",
       "0                                  0.00                                906.62  \\\n",
       "1                                932.10                                  0.00   \n",
       "2                               1188.47                                821.98   \n",
       "\n",
       "   1241bc5a-5571-4cee-bce0-d0ab82000d8c  127035c1-a7c7-41db-9976-ab4cd14b7271   \n",
       "0                               1213.47                               1712.71  \\\n",
       "1                                881.74                               1380.97   \n",
       "2                                  0.00                                916.49   \n",
       "\n",
       "   d7376c09-b449-4948-8706-15777971f03c  8d3cd774-8fb2-41d4-856a-26b299bfb8d8   \n",
       "0                               1019.91                               1079.37  \\\n",
       "1                                719.36                                747.64   \n",
       "2                                965.98                                228.30   \n",
       "\n",
       "   d27a7d15-3fc1-4880-88bd-e981ff6ed5f9  ...   \n",
       "0                               1793.59  ...  \\\n",
       "1                               1222.59  ...   \n",
       "2                                778.76  ...   \n",
       "\n",
       "   4eb30190-3a75-423f-a29b-845d12263c4e  d08f7052-f3cf-4374-b96b-ee46b55adfcd   \n",
       "0                               1146.98                               1875.60  \\\n",
       "1                               1357.63                               1667.29   \n",
       "2                               1604.14                               1202.81   \n",
       "\n",
       "   eaba7fbc-709f-422d-979f-4d1e4816c6cc  1a3afe4f-3a92-49ac-a453-7bcdf0c4f47b   \n",
       "0                               1015.65                               1599.86  \\\n",
       "1                                366.20                               1633.00   \n",
       "2                                564.27                               1334.94   \n",
       "\n",
       "   82119d5d-775f-42af-ac56-000d7c91413f  c46c827b-be21-4444-bb79-930ccc3696c8   \n",
       "0                                924.25                                713.65  \\\n",
       "1                               1065.48                                397.09   \n",
       "2                               1311.99                                591.66   \n",
       "\n",
       "   011ba4a2-c12b-4d3f-a96d-8cbf1d1e8585  da6f245b-5aa2-419c-b00e-5daf159bdfc1   \n",
       "0                               1436.90                               1437.30  \\\n",
       "1                               1233.21                               1233.61   \n",
       "2                               1176.59                               1176.99   \n",
       "\n",
       "   9266bc0b-6912-628d-d843-3c53b66d6195  9c9d07ab-515a-54aa-0bac-df556a1f654b  \n",
       "0                               1895.89                               1141.87  \n",
       "1                               1564.15                               1352.52  \n",
       "2                               1099.67                               1599.03  \n",
       "\n",
       "[3 rows x 133 columns]"
      ]
     },
     "execution_count": 6,
     "metadata": {},
     "output_type": "execute_result"
    }
   ],
   "source": [
    "# get driving durations between all stations\n",
    "durations = pd.read_csv(\"data/sample/stations/stations_dus_duration_matrix.csv\")\n",
    "durations.head(3)"
   ]
  },
  {
   "cell_type": "code",
   "execution_count": 7,
   "metadata": {},
   "outputs": [
    {
     "name": "stderr",
     "output_type": "stream",
     "text": [
      "Adding station columns to matrix: 100%|██████████| 130/130 [00:00<00:00, 7569.58it/s]\n",
      "Calculating distances for stations: 100%|██████████| 130/130 [00:05<00:00, 25.12it/s]\n"
     ]
    }
   ],
   "source": [
    "# finally, get geo distances between stations\n",
    "station_matrix = du.create_station_matrix(stations)\n",
    "distances = du.create_distance_matrix(station_matrix)"
   ]
  },
  {
   "cell_type": "code",
   "execution_count": 8,
   "metadata": {},
   "outputs": [
    {
     "data": {
      "text/html": [
       "<div>\n",
       "<style scoped>\n",
       "    .dataframe tbody tr th:only-of-type {\n",
       "        vertical-align: middle;\n",
       "    }\n",
       "\n",
       "    .dataframe tbody tr th {\n",
       "        vertical-align: top;\n",
       "    }\n",
       "\n",
       "    .dataframe thead th {\n",
       "        text-align: right;\n",
       "    }\n",
       "</style>\n",
       "<table border=\"1\" class=\"dataframe\">\n",
       "  <thead>\n",
       "    <tr style=\"text-align: right;\">\n",
       "      <th></th>\n",
       "      <th>longitude</th>\n",
       "      <th>latitude</th>\n",
       "      <th>64ec825f-740c-477a-b7c2-2121154ee8a7</th>\n",
       "      <th>fd99c048-3b6b-4943-8b93-838daefba76b</th>\n",
       "      <th>1241bc5a-5571-4cee-bce0-d0ab82000d8c</th>\n",
       "      <th>127035c1-a7c7-41db-9976-ab4cd14b7271</th>\n",
       "      <th>d7376c09-b449-4948-8706-15777971f03c</th>\n",
       "      <th>8d3cd774-8fb2-41d4-856a-26b299bfb8d8</th>\n",
       "      <th>d27a7d15-3fc1-4880-88bd-e981ff6ed5f9</th>\n",
       "      <th>a9b14f40-30ee-4550-b998-55f2981c6025</th>\n",
       "      <th>...</th>\n",
       "      <th>4eb30190-3a75-423f-a29b-845d12263c4e</th>\n",
       "      <th>d08f7052-f3cf-4374-b96b-ee46b55adfcd</th>\n",
       "      <th>eaba7fbc-709f-422d-979f-4d1e4816c6cc</th>\n",
       "      <th>1a3afe4f-3a92-49ac-a453-7bcdf0c4f47b</th>\n",
       "      <th>82119d5d-775f-42af-ac56-000d7c91413f</th>\n",
       "      <th>c46c827b-be21-4444-bb79-930ccc3696c8</th>\n",
       "      <th>011ba4a2-c12b-4d3f-a96d-8cbf1d1e8585</th>\n",
       "      <th>da6f245b-5aa2-419c-b00e-5daf159bdfc1</th>\n",
       "      <th>9266bc0b-6912-628d-d843-3c53b66d6195</th>\n",
       "      <th>9c9d07ab-515a-54aa-0bac-df556a1f654b</th>\n",
       "    </tr>\n",
       "    <tr>\n",
       "      <th>uuid</th>\n",
       "      <th></th>\n",
       "      <th></th>\n",
       "      <th></th>\n",
       "      <th></th>\n",
       "      <th></th>\n",
       "      <th></th>\n",
       "      <th></th>\n",
       "      <th></th>\n",
       "      <th></th>\n",
       "      <th></th>\n",
       "      <th></th>\n",
       "      <th></th>\n",
       "      <th></th>\n",
       "      <th></th>\n",
       "      <th></th>\n",
       "      <th></th>\n",
       "      <th></th>\n",
       "      <th></th>\n",
       "      <th></th>\n",
       "      <th></th>\n",
       "      <th></th>\n",
       "    </tr>\n",
       "  </thead>\n",
       "  <tbody>\n",
       "    <tr>\n",
       "      <th>64ec825f-740c-477a-b7c2-2121154ee8a7</th>\n",
       "      <td>6.916481</td>\n",
       "      <td>51.223767</td>\n",
       "      <td>0.000000</td>\n",
       "      <td>6.008945</td>\n",
       "      <td>10.968770</td>\n",
       "      <td>17.190605</td>\n",
       "      <td>9.570113</td>\n",
       "      <td>10.179577</td>\n",
       "      <td>13.717496</td>\n",
       "      <td>8.759524</td>\n",
       "      <td>...</td>\n",
       "      <td>9.145218</td>\n",
       "      <td>19.135419</td>\n",
       "      <td>7.939208</td>\n",
       "      <td>15.004080</td>\n",
       "      <td>11.443098</td>\n",
       "      <td>6.236024</td>\n",
       "      <td>10.742319</td>\n",
       "      <td>10.769017</td>\n",
       "      <td>19.933437</td>\n",
       "      <td>9.131966</td>\n",
       "    </tr>\n",
       "    <tr>\n",
       "      <th>fd99c048-3b6b-4943-8b93-838daefba76b</th>\n",
       "      <td>6.841084</td>\n",
       "      <td>51.197512</td>\n",
       "      <td>6.008945</td>\n",
       "      <td>0.000000</td>\n",
       "      <td>5.436489</td>\n",
       "      <td>11.890232</td>\n",
       "      <td>7.976293</td>\n",
       "      <td>4.619857</td>\n",
       "      <td>9.852144</td>\n",
       "      <td>6.395206</td>\n",
       "      <td>...</td>\n",
       "      <td>10.803573</td>\n",
       "      <td>15.957332</td>\n",
       "      <td>1.984982</td>\n",
       "      <td>14.907762</td>\n",
       "      <td>14.662674</td>\n",
       "      <td>0.994936</td>\n",
       "      <td>10.624603</td>\n",
       "      <td>10.655445</td>\n",
       "      <td>16.105353</td>\n",
       "      <td>10.805626</td>\n",
       "    </tr>\n",
       "    <tr>\n",
       "      <th>1241bc5a-5571-4cee-bce0-d0ab82000d8c</th>\n",
       "      <td>6.763259</td>\n",
       "      <td>51.201010</td>\n",
       "      <td>10.968770</td>\n",
       "      <td>5.436489</td>\n",
       "      <td>0.000000</td>\n",
       "      <td>6.455520</td>\n",
       "      <td>12.111683</td>\n",
       "      <td>0.817813</td>\n",
       "      <td>5.745637</td>\n",
       "      <td>5.705973</td>\n",
       "      <td>...</td>\n",
       "      <td>12.006802</td>\n",
       "      <td>11.819272</td>\n",
       "      <td>4.389803</td>\n",
       "      <td>13.771540</td>\n",
       "      <td>16.479572</td>\n",
       "      <td>5.920439</td>\n",
       "      <td>10.333601</td>\n",
       "      <td>10.359649</td>\n",
       "      <td>11.412962</td>\n",
       "      <td>12.020806</td>\n",
       "    </tr>\n",
       "    <tr>\n",
       "      <th>127035c1-a7c7-41db-9976-ab4cd14b7271</th>\n",
       "      <td>6.671111</td>\n",
       "      <td>51.207104</td>\n",
       "      <td>17.190605</td>\n",
       "      <td>11.890232</td>\n",
       "      <td>6.455520</td>\n",
       "      <td>0.000000</td>\n",
       "      <td>18.023210</td>\n",
       "      <td>7.270759</td>\n",
       "      <td>5.621527</td>\n",
       "      <td>9.849164</td>\n",
       "      <td>...</td>\n",
       "      <td>15.768423</td>\n",
       "      <td>8.722496</td>\n",
       "      <td>10.718204</td>\n",
       "      <td>14.885032</td>\n",
       "      <td>20.223705</td>\n",
       "      <td>12.354220</td>\n",
       "      <td>13.105961</td>\n",
       "      <td>13.120710</td>\n",
       "      <td>7.121379</td>\n",
       "      <td>15.790035</td>\n",
       "    </tr>\n",
       "    <tr>\n",
       "      <th>d7376c09-b449-4948-8706-15777971f03c</th>\n",
       "      <td>6.904963</td>\n",
       "      <td>51.138004</td>\n",
       "      <td>9.570113</td>\n",
       "      <td>7.976293</td>\n",
       "      <td>12.111683</td>\n",
       "      <td>18.023210</td>\n",
       "      <td>0.000000</td>\n",
       "      <td>11.443265</td>\n",
       "      <td>17.480466</td>\n",
       "      <td>14.357558</td>\n",
       "      <td>...</td>\n",
       "      <td>17.828224</td>\n",
       "      <td>23.663537</td>\n",
       "      <td>7.854978</td>\n",
       "      <td>22.692819</td>\n",
       "      <td>20.869728</td>\n",
       "      <td>7.012626</td>\n",
       "      <td>18.320604</td>\n",
       "      <td>18.351299</td>\n",
       "      <td>23.498288</td>\n",
       "      <td>17.822930</td>\n",
       "    </tr>\n",
       "    <tr>\n",
       "      <th>8d3cd774-8fb2-41d4-856a-26b299bfb8d8</th>\n",
       "      <td>6.774994</td>\n",
       "      <td>51.200851</td>\n",
       "      <td>10.179577</td>\n",
       "      <td>4.619857</td>\n",
       "      <td>0.817813</td>\n",
       "      <td>7.270759</td>\n",
       "      <td>11.443265</td>\n",
       "      <td>0.000000</td>\n",
       "      <td>6.202921</td>\n",
       "      <td>5.441068</td>\n",
       "      <td>...</td>\n",
       "      <td>11.635850</td>\n",
       "      <td>12.348176</td>\n",
       "      <td>3.649139</td>\n",
       "      <td>13.771867</td>\n",
       "      <td>16.066516</td>\n",
       "      <td>5.122057</td>\n",
       "      <td>10.154280</td>\n",
       "      <td>10.181537</td>\n",
       "      <td>12.055415</td>\n",
       "      <td>11.648408</td>\n",
       "    </tr>\n",
       "    <tr>\n",
       "      <th>d27a7d15-3fc1-4880-88bd-e981ff6ed5f9</th>\n",
       "      <td>6.722680</td>\n",
       "      <td>51.246000</td>\n",
       "      <td>13.717496</td>\n",
       "      <td>9.852144</td>\n",
       "      <td>5.745637</td>\n",
       "      <td>5.621527</td>\n",
       "      <td>17.480466</td>\n",
       "      <td>6.202921</td>\n",
       "      <td>0.000000</td>\n",
       "      <td>5.155689</td>\n",
       "      <td>...</td>\n",
       "      <td>10.341926</td>\n",
       "      <td>6.184726</td>\n",
       "      <td>9.632221</td>\n",
       "      <td>9.433384</td>\n",
       "      <td>14.711116</td>\n",
       "      <td>10.670349</td>\n",
       "      <td>7.527681</td>\n",
       "      <td>7.540518</td>\n",
       "      <td>6.316970</td>\n",
       "      <td>10.365252</td>\n",
       "    </tr>\n",
       "    <tr>\n",
       "      <th>a9b14f40-30ee-4550-b998-55f2981c6025</th>\n",
       "      <td>6.796692</td>\n",
       "      <td>51.247859</td>\n",
       "      <td>8.759524</td>\n",
       "      <td>6.395206</td>\n",
       "      <td>5.705973</td>\n",
       "      <td>9.849164</td>\n",
       "      <td>14.357558</td>\n",
       "      <td>5.441068</td>\n",
       "      <td>5.155689</td>\n",
       "      <td>0.000000</td>\n",
       "      <td>...</td>\n",
       "      <td>6.358033</td>\n",
       "      <td>10.400537</td>\n",
       "      <td>7.192216</td>\n",
       "      <td>8.697426</td>\n",
       "      <td>10.874411</td>\n",
       "      <td>7.380885</td>\n",
       "      <td>4.748374</td>\n",
       "      <td>4.776818</td>\n",
       "      <td>11.202967</td>\n",
       "      <td>6.374119</td>\n",
       "    </tr>\n",
       "    <tr>\n",
       "      <th>69d4d0be-ab2b-4e65-ac9e-2a1fca892e90</th>\n",
       "      <td>6.813494</td>\n",
       "      <td>51.193808</td>\n",
       "      <td>7.909967</td>\n",
       "      <td>1.966142</td>\n",
       "      <td>3.590769</td>\n",
       "      <td>10.030016</td>\n",
       "      <td>8.898306</td>\n",
       "      <td>2.794624</td>\n",
       "      <td>8.583871</td>\n",
       "      <td>6.123049</td>\n",
       "      <td>...</td>\n",
       "      <td>11.476537</td>\n",
       "      <td>14.765552</td>\n",
       "      <td>1.107585</td>\n",
       "      <td>14.820435</td>\n",
       "      <td>15.624088</td>\n",
       "      <td>2.329670</td>\n",
       "      <td>10.745351</td>\n",
       "      <td>10.775431</td>\n",
       "      <td>14.684043</td>\n",
       "      <td>11.483008</td>\n",
       "    </tr>\n",
       "  </tbody>\n",
       "</table>\n",
       "<p>9 rows × 132 columns</p>\n",
       "</div>"
      ],
      "text/plain": [
       "                                      longitude   latitude   \n",
       "uuid                                                         \n",
       "64ec825f-740c-477a-b7c2-2121154ee8a7   6.916481  51.223767  \\\n",
       "fd99c048-3b6b-4943-8b93-838daefba76b   6.841084  51.197512   \n",
       "1241bc5a-5571-4cee-bce0-d0ab82000d8c   6.763259  51.201010   \n",
       "127035c1-a7c7-41db-9976-ab4cd14b7271   6.671111  51.207104   \n",
       "d7376c09-b449-4948-8706-15777971f03c   6.904963  51.138004   \n",
       "8d3cd774-8fb2-41d4-856a-26b299bfb8d8   6.774994  51.200851   \n",
       "d27a7d15-3fc1-4880-88bd-e981ff6ed5f9   6.722680  51.246000   \n",
       "a9b14f40-30ee-4550-b998-55f2981c6025   6.796692  51.247859   \n",
       "69d4d0be-ab2b-4e65-ac9e-2a1fca892e90   6.813494  51.193808   \n",
       "\n",
       "                                      64ec825f-740c-477a-b7c2-2121154ee8a7   \n",
       "uuid                                                                         \n",
       "64ec825f-740c-477a-b7c2-2121154ee8a7                              0.000000  \\\n",
       "fd99c048-3b6b-4943-8b93-838daefba76b                              6.008945   \n",
       "1241bc5a-5571-4cee-bce0-d0ab82000d8c                             10.968770   \n",
       "127035c1-a7c7-41db-9976-ab4cd14b7271                             17.190605   \n",
       "d7376c09-b449-4948-8706-15777971f03c                              9.570113   \n",
       "8d3cd774-8fb2-41d4-856a-26b299bfb8d8                             10.179577   \n",
       "d27a7d15-3fc1-4880-88bd-e981ff6ed5f9                             13.717496   \n",
       "a9b14f40-30ee-4550-b998-55f2981c6025                              8.759524   \n",
       "69d4d0be-ab2b-4e65-ac9e-2a1fca892e90                              7.909967   \n",
       "\n",
       "                                      fd99c048-3b6b-4943-8b93-838daefba76b   \n",
       "uuid                                                                         \n",
       "64ec825f-740c-477a-b7c2-2121154ee8a7                              6.008945  \\\n",
       "fd99c048-3b6b-4943-8b93-838daefba76b                              0.000000   \n",
       "1241bc5a-5571-4cee-bce0-d0ab82000d8c                              5.436489   \n",
       "127035c1-a7c7-41db-9976-ab4cd14b7271                             11.890232   \n",
       "d7376c09-b449-4948-8706-15777971f03c                              7.976293   \n",
       "8d3cd774-8fb2-41d4-856a-26b299bfb8d8                              4.619857   \n",
       "d27a7d15-3fc1-4880-88bd-e981ff6ed5f9                              9.852144   \n",
       "a9b14f40-30ee-4550-b998-55f2981c6025                              6.395206   \n",
       "69d4d0be-ab2b-4e65-ac9e-2a1fca892e90                              1.966142   \n",
       "\n",
       "                                      1241bc5a-5571-4cee-bce0-d0ab82000d8c   \n",
       "uuid                                                                         \n",
       "64ec825f-740c-477a-b7c2-2121154ee8a7                             10.968770  \\\n",
       "fd99c048-3b6b-4943-8b93-838daefba76b                              5.436489   \n",
       "1241bc5a-5571-4cee-bce0-d0ab82000d8c                              0.000000   \n",
       "127035c1-a7c7-41db-9976-ab4cd14b7271                              6.455520   \n",
       "d7376c09-b449-4948-8706-15777971f03c                             12.111683   \n",
       "8d3cd774-8fb2-41d4-856a-26b299bfb8d8                              0.817813   \n",
       "d27a7d15-3fc1-4880-88bd-e981ff6ed5f9                              5.745637   \n",
       "a9b14f40-30ee-4550-b998-55f2981c6025                              5.705973   \n",
       "69d4d0be-ab2b-4e65-ac9e-2a1fca892e90                              3.590769   \n",
       "\n",
       "                                      127035c1-a7c7-41db-9976-ab4cd14b7271   \n",
       "uuid                                                                         \n",
       "64ec825f-740c-477a-b7c2-2121154ee8a7                             17.190605  \\\n",
       "fd99c048-3b6b-4943-8b93-838daefba76b                             11.890232   \n",
       "1241bc5a-5571-4cee-bce0-d0ab82000d8c                              6.455520   \n",
       "127035c1-a7c7-41db-9976-ab4cd14b7271                              0.000000   \n",
       "d7376c09-b449-4948-8706-15777971f03c                             18.023210   \n",
       "8d3cd774-8fb2-41d4-856a-26b299bfb8d8                              7.270759   \n",
       "d27a7d15-3fc1-4880-88bd-e981ff6ed5f9                              5.621527   \n",
       "a9b14f40-30ee-4550-b998-55f2981c6025                              9.849164   \n",
       "69d4d0be-ab2b-4e65-ac9e-2a1fca892e90                             10.030016   \n",
       "\n",
       "                                      d7376c09-b449-4948-8706-15777971f03c   \n",
       "uuid                                                                         \n",
       "64ec825f-740c-477a-b7c2-2121154ee8a7                              9.570113  \\\n",
       "fd99c048-3b6b-4943-8b93-838daefba76b                              7.976293   \n",
       "1241bc5a-5571-4cee-bce0-d0ab82000d8c                             12.111683   \n",
       "127035c1-a7c7-41db-9976-ab4cd14b7271                             18.023210   \n",
       "d7376c09-b449-4948-8706-15777971f03c                              0.000000   \n",
       "8d3cd774-8fb2-41d4-856a-26b299bfb8d8                             11.443265   \n",
       "d27a7d15-3fc1-4880-88bd-e981ff6ed5f9                             17.480466   \n",
       "a9b14f40-30ee-4550-b998-55f2981c6025                             14.357558   \n",
       "69d4d0be-ab2b-4e65-ac9e-2a1fca892e90                              8.898306   \n",
       "\n",
       "                                      8d3cd774-8fb2-41d4-856a-26b299bfb8d8   \n",
       "uuid                                                                         \n",
       "64ec825f-740c-477a-b7c2-2121154ee8a7                             10.179577  \\\n",
       "fd99c048-3b6b-4943-8b93-838daefba76b                              4.619857   \n",
       "1241bc5a-5571-4cee-bce0-d0ab82000d8c                              0.817813   \n",
       "127035c1-a7c7-41db-9976-ab4cd14b7271                              7.270759   \n",
       "d7376c09-b449-4948-8706-15777971f03c                             11.443265   \n",
       "8d3cd774-8fb2-41d4-856a-26b299bfb8d8                              0.000000   \n",
       "d27a7d15-3fc1-4880-88bd-e981ff6ed5f9                              6.202921   \n",
       "a9b14f40-30ee-4550-b998-55f2981c6025                              5.441068   \n",
       "69d4d0be-ab2b-4e65-ac9e-2a1fca892e90                              2.794624   \n",
       "\n",
       "                                      d27a7d15-3fc1-4880-88bd-e981ff6ed5f9   \n",
       "uuid                                                                         \n",
       "64ec825f-740c-477a-b7c2-2121154ee8a7                             13.717496  \\\n",
       "fd99c048-3b6b-4943-8b93-838daefba76b                              9.852144   \n",
       "1241bc5a-5571-4cee-bce0-d0ab82000d8c                              5.745637   \n",
       "127035c1-a7c7-41db-9976-ab4cd14b7271                              5.621527   \n",
       "d7376c09-b449-4948-8706-15777971f03c                             17.480466   \n",
       "8d3cd774-8fb2-41d4-856a-26b299bfb8d8                              6.202921   \n",
       "d27a7d15-3fc1-4880-88bd-e981ff6ed5f9                              0.000000   \n",
       "a9b14f40-30ee-4550-b998-55f2981c6025                              5.155689   \n",
       "69d4d0be-ab2b-4e65-ac9e-2a1fca892e90                              8.583871   \n",
       "\n",
       "                                      a9b14f40-30ee-4550-b998-55f2981c6025   \n",
       "uuid                                                                         \n",
       "64ec825f-740c-477a-b7c2-2121154ee8a7                              8.759524  \\\n",
       "fd99c048-3b6b-4943-8b93-838daefba76b                              6.395206   \n",
       "1241bc5a-5571-4cee-bce0-d0ab82000d8c                              5.705973   \n",
       "127035c1-a7c7-41db-9976-ab4cd14b7271                              9.849164   \n",
       "d7376c09-b449-4948-8706-15777971f03c                             14.357558   \n",
       "8d3cd774-8fb2-41d4-856a-26b299bfb8d8                              5.441068   \n",
       "d27a7d15-3fc1-4880-88bd-e981ff6ed5f9                              5.155689   \n",
       "a9b14f40-30ee-4550-b998-55f2981c6025                              0.000000   \n",
       "69d4d0be-ab2b-4e65-ac9e-2a1fca892e90                              6.123049   \n",
       "\n",
       "                                      ...   \n",
       "uuid                                  ...   \n",
       "64ec825f-740c-477a-b7c2-2121154ee8a7  ...  \\\n",
       "fd99c048-3b6b-4943-8b93-838daefba76b  ...   \n",
       "1241bc5a-5571-4cee-bce0-d0ab82000d8c  ...   \n",
       "127035c1-a7c7-41db-9976-ab4cd14b7271  ...   \n",
       "d7376c09-b449-4948-8706-15777971f03c  ...   \n",
       "8d3cd774-8fb2-41d4-856a-26b299bfb8d8  ...   \n",
       "d27a7d15-3fc1-4880-88bd-e981ff6ed5f9  ...   \n",
       "a9b14f40-30ee-4550-b998-55f2981c6025  ...   \n",
       "69d4d0be-ab2b-4e65-ac9e-2a1fca892e90  ...   \n",
       "\n",
       "                                      4eb30190-3a75-423f-a29b-845d12263c4e   \n",
       "uuid                                                                         \n",
       "64ec825f-740c-477a-b7c2-2121154ee8a7                              9.145218  \\\n",
       "fd99c048-3b6b-4943-8b93-838daefba76b                             10.803573   \n",
       "1241bc5a-5571-4cee-bce0-d0ab82000d8c                             12.006802   \n",
       "127035c1-a7c7-41db-9976-ab4cd14b7271                             15.768423   \n",
       "d7376c09-b449-4948-8706-15777971f03c                             17.828224   \n",
       "8d3cd774-8fb2-41d4-856a-26b299bfb8d8                             11.635850   \n",
       "d27a7d15-3fc1-4880-88bd-e981ff6ed5f9                             10.341926   \n",
       "a9b14f40-30ee-4550-b998-55f2981c6025                              6.358033   \n",
       "69d4d0be-ab2b-4e65-ac9e-2a1fca892e90                             11.476537   \n",
       "\n",
       "                                      d08f7052-f3cf-4374-b96b-ee46b55adfcd   \n",
       "uuid                                                                         \n",
       "64ec825f-740c-477a-b7c2-2121154ee8a7                             19.135419  \\\n",
       "fd99c048-3b6b-4943-8b93-838daefba76b                             15.957332   \n",
       "1241bc5a-5571-4cee-bce0-d0ab82000d8c                             11.819272   \n",
       "127035c1-a7c7-41db-9976-ab4cd14b7271                              8.722496   \n",
       "d7376c09-b449-4948-8706-15777971f03c                             23.663537   \n",
       "8d3cd774-8fb2-41d4-856a-26b299bfb8d8                             12.348176   \n",
       "d27a7d15-3fc1-4880-88bd-e981ff6ed5f9                              6.184726   \n",
       "a9b14f40-30ee-4550-b998-55f2981c6025                             10.400537   \n",
       "69d4d0be-ab2b-4e65-ac9e-2a1fca892e90                             14.765552   \n",
       "\n",
       "                                      eaba7fbc-709f-422d-979f-4d1e4816c6cc   \n",
       "uuid                                                                         \n",
       "64ec825f-740c-477a-b7c2-2121154ee8a7                              7.939208  \\\n",
       "fd99c048-3b6b-4943-8b93-838daefba76b                              1.984982   \n",
       "1241bc5a-5571-4cee-bce0-d0ab82000d8c                              4.389803   \n",
       "127035c1-a7c7-41db-9976-ab4cd14b7271                             10.718204   \n",
       "d7376c09-b449-4948-8706-15777971f03c                              7.854978   \n",
       "8d3cd774-8fb2-41d4-856a-26b299bfb8d8                              3.649139   \n",
       "d27a7d15-3fc1-4880-88bd-e981ff6ed5f9                              9.632221   \n",
       "a9b14f40-30ee-4550-b998-55f2981c6025                              7.192216   \n",
       "69d4d0be-ab2b-4e65-ac9e-2a1fca892e90                              1.107585   \n",
       "\n",
       "                                      1a3afe4f-3a92-49ac-a453-7bcdf0c4f47b   \n",
       "uuid                                                                         \n",
       "64ec825f-740c-477a-b7c2-2121154ee8a7                             15.004080  \\\n",
       "fd99c048-3b6b-4943-8b93-838daefba76b                             14.907762   \n",
       "1241bc5a-5571-4cee-bce0-d0ab82000d8c                             13.771540   \n",
       "127035c1-a7c7-41db-9976-ab4cd14b7271                             14.885032   \n",
       "d7376c09-b449-4948-8706-15777971f03c                             22.692819   \n",
       "8d3cd774-8fb2-41d4-856a-26b299bfb8d8                             13.771867   \n",
       "d27a7d15-3fc1-4880-88bd-e981ff6ed5f9                              9.433384   \n",
       "a9b14f40-30ee-4550-b998-55f2981c6025                              8.697426   \n",
       "69d4d0be-ab2b-4e65-ac9e-2a1fca892e90                             14.820435   \n",
       "\n",
       "                                      82119d5d-775f-42af-ac56-000d7c91413f   \n",
       "uuid                                                                         \n",
       "64ec825f-740c-477a-b7c2-2121154ee8a7                             11.443098  \\\n",
       "fd99c048-3b6b-4943-8b93-838daefba76b                             14.662674   \n",
       "1241bc5a-5571-4cee-bce0-d0ab82000d8c                             16.479572   \n",
       "127035c1-a7c7-41db-9976-ab4cd14b7271                             20.223705   \n",
       "d7376c09-b449-4948-8706-15777971f03c                             20.869728   \n",
       "8d3cd774-8fb2-41d4-856a-26b299bfb8d8                             16.066516   \n",
       "d27a7d15-3fc1-4880-88bd-e981ff6ed5f9                             14.711116   \n",
       "a9b14f40-30ee-4550-b998-55f2981c6025                             10.874411   \n",
       "69d4d0be-ab2b-4e65-ac9e-2a1fca892e90                             15.624088   \n",
       "\n",
       "                                      c46c827b-be21-4444-bb79-930ccc3696c8   \n",
       "uuid                                                                         \n",
       "64ec825f-740c-477a-b7c2-2121154ee8a7                              6.236024  \\\n",
       "fd99c048-3b6b-4943-8b93-838daefba76b                              0.994936   \n",
       "1241bc5a-5571-4cee-bce0-d0ab82000d8c                              5.920439   \n",
       "127035c1-a7c7-41db-9976-ab4cd14b7271                             12.354220   \n",
       "d7376c09-b449-4948-8706-15777971f03c                              7.012626   \n",
       "8d3cd774-8fb2-41d4-856a-26b299bfb8d8                              5.122057   \n",
       "d27a7d15-3fc1-4880-88bd-e981ff6ed5f9                             10.670349   \n",
       "a9b14f40-30ee-4550-b998-55f2981c6025                              7.380885   \n",
       "69d4d0be-ab2b-4e65-ac9e-2a1fca892e90                              2.329670   \n",
       "\n",
       "                                      011ba4a2-c12b-4d3f-a96d-8cbf1d1e8585   \n",
       "uuid                                                                         \n",
       "64ec825f-740c-477a-b7c2-2121154ee8a7                             10.742319  \\\n",
       "fd99c048-3b6b-4943-8b93-838daefba76b                             10.624603   \n",
       "1241bc5a-5571-4cee-bce0-d0ab82000d8c                             10.333601   \n",
       "127035c1-a7c7-41db-9976-ab4cd14b7271                             13.105961   \n",
       "d7376c09-b449-4948-8706-15777971f03c                             18.320604   \n",
       "8d3cd774-8fb2-41d4-856a-26b299bfb8d8                             10.154280   \n",
       "d27a7d15-3fc1-4880-88bd-e981ff6ed5f9                              7.527681   \n",
       "a9b14f40-30ee-4550-b998-55f2981c6025                              4.748374   \n",
       "69d4d0be-ab2b-4e65-ac9e-2a1fca892e90                             10.745351   \n",
       "\n",
       "                                      da6f245b-5aa2-419c-b00e-5daf159bdfc1   \n",
       "uuid                                                                         \n",
       "64ec825f-740c-477a-b7c2-2121154ee8a7                             10.769017  \\\n",
       "fd99c048-3b6b-4943-8b93-838daefba76b                             10.655445   \n",
       "1241bc5a-5571-4cee-bce0-d0ab82000d8c                             10.359649   \n",
       "127035c1-a7c7-41db-9976-ab4cd14b7271                             13.120710   \n",
       "d7376c09-b449-4948-8706-15777971f03c                             18.351299   \n",
       "8d3cd774-8fb2-41d4-856a-26b299bfb8d8                             10.181537   \n",
       "d27a7d15-3fc1-4880-88bd-e981ff6ed5f9                              7.540518   \n",
       "a9b14f40-30ee-4550-b998-55f2981c6025                              4.776818   \n",
       "69d4d0be-ab2b-4e65-ac9e-2a1fca892e90                             10.775431   \n",
       "\n",
       "                                      9266bc0b-6912-628d-d843-3c53b66d6195   \n",
       "uuid                                                                         \n",
       "64ec825f-740c-477a-b7c2-2121154ee8a7                             19.933437  \\\n",
       "fd99c048-3b6b-4943-8b93-838daefba76b                             16.105353   \n",
       "1241bc5a-5571-4cee-bce0-d0ab82000d8c                             11.412962   \n",
       "127035c1-a7c7-41db-9976-ab4cd14b7271                              7.121379   \n",
       "d7376c09-b449-4948-8706-15777971f03c                             23.498288   \n",
       "8d3cd774-8fb2-41d4-856a-26b299bfb8d8                             12.055415   \n",
       "d27a7d15-3fc1-4880-88bd-e981ff6ed5f9                              6.316970   \n",
       "a9b14f40-30ee-4550-b998-55f2981c6025                             11.202967   \n",
       "69d4d0be-ab2b-4e65-ac9e-2a1fca892e90                             14.684043   \n",
       "\n",
       "                                      9c9d07ab-515a-54aa-0bac-df556a1f654b  \n",
       "uuid                                                                        \n",
       "64ec825f-740c-477a-b7c2-2121154ee8a7                              9.131966  \n",
       "fd99c048-3b6b-4943-8b93-838daefba76b                             10.805626  \n",
       "1241bc5a-5571-4cee-bce0-d0ab82000d8c                             12.020806  \n",
       "127035c1-a7c7-41db-9976-ab4cd14b7271                             15.790035  \n",
       "d7376c09-b449-4948-8706-15777971f03c                             17.822930  \n",
       "8d3cd774-8fb2-41d4-856a-26b299bfb8d8                             11.648408  \n",
       "d27a7d15-3fc1-4880-88bd-e981ff6ed5f9                             10.365252  \n",
       "a9b14f40-30ee-4550-b998-55f2981c6025                              6.374119  \n",
       "69d4d0be-ab2b-4e65-ac9e-2a1fca892e90                             11.483008  \n",
       "\n",
       "[9 rows x 132 columns]"
      ]
     },
     "execution_count": 8,
     "metadata": {},
     "output_type": "execute_result"
    }
   ],
   "source": [
    "distances.head(9)"
   ]
  },
  {
   "cell_type": "code",
   "execution_count": 9,
   "metadata": {},
   "outputs": [
    {
     "data": {
      "text/html": [
       "<div>\n",
       "<style scoped>\n",
       "    .dataframe tbody tr th:only-of-type {\n",
       "        vertical-align: middle;\n",
       "    }\n",
       "\n",
       "    .dataframe tbody tr th {\n",
       "        vertical-align: top;\n",
       "    }\n",
       "\n",
       "    .dataframe thead th {\n",
       "        text-align: right;\n",
       "    }\n",
       "</style>\n",
       "<table border=\"1\" class=\"dataframe\">\n",
       "  <thead>\n",
       "    <tr style=\"text-align: right;\">\n",
       "      <th></th>\n",
       "      <th>Unnamed: 0</th>\n",
       "      <th>uuid</th>\n",
       "      <th>name</th>\n",
       "      <th>brand</th>\n",
       "      <th>street</th>\n",
       "      <th>house_number</th>\n",
       "      <th>post_code</th>\n",
       "      <th>city</th>\n",
       "      <th>latitude</th>\n",
       "      <th>longitude</th>\n",
       "      <th>first_active</th>\n",
       "      <th>openingtimes_json</th>\n",
       "      <th>file_date</th>\n",
       "    </tr>\n",
       "  </thead>\n",
       "  <tbody>\n",
       "    <tr>\n",
       "      <th>0</th>\n",
       "      <td>115</td>\n",
       "      <td>64ec825f-740c-477a-b7c2-2121154ee8a7</td>\n",
       "      <td>TotalEnergies Erkrath</td>\n",
       "      <td>TotalEnergies</td>\n",
       "      <td>Kirchstr.</td>\n",
       "      <td>23</td>\n",
       "      <td>40699</td>\n",
       "      <td>Erkrath</td>\n",
       "      <td>51.223767</td>\n",
       "      <td>6.916481</td>\n",
       "      <td>2014-03-18 16:45:31+01</td>\n",
       "      <td>{\"openingTimes\":[{\"applicable_days\":63,\"period...</td>\n",
       "      <td>2023-05-06</td>\n",
       "    </tr>\n",
       "    <tr>\n",
       "      <th>1</th>\n",
       "      <td>260</td>\n",
       "      <td>fd99c048-3b6b-4943-8b93-838daefba76b</td>\n",
       "      <td>Shell Duesseldorf Karlsruher Str. 45</td>\n",
       "      <td>Shell</td>\n",
       "      <td>Karlsruher Str.</td>\n",
       "      <td>45</td>\n",
       "      <td>40229</td>\n",
       "      <td>Duesseldorf</td>\n",
       "      <td>51.197512</td>\n",
       "      <td>6.841084</td>\n",
       "      <td>2014-03-18 16:45:31+01</td>\n",
       "      <td>{}</td>\n",
       "      <td>2023-05-06</td>\n",
       "    </tr>\n",
       "    <tr>\n",
       "      <th>2</th>\n",
       "      <td>393</td>\n",
       "      <td>1241bc5a-5571-4cee-bce0-d0ab82000d8c</td>\n",
       "      <td>Aral Tankstelle</td>\n",
       "      <td>ARAL</td>\n",
       "      <td>Südring</td>\n",
       "      <td>115</td>\n",
       "      <td>40221</td>\n",
       "      <td>Düsseldorf</td>\n",
       "      <td>51.201010</td>\n",
       "      <td>6.763259</td>\n",
       "      <td>2014-03-18 16:45:31+01</td>\n",
       "      <td>{}</td>\n",
       "      <td>2023-05-06</td>\n",
       "    </tr>\n",
       "    <tr>\n",
       "      <th>3</th>\n",
       "      <td>451</td>\n",
       "      <td>127035c1-a7c7-41db-9976-ab4cd14b7271</td>\n",
       "      <td>Aral Tankstelle</td>\n",
       "      <td>ARAL</td>\n",
       "      <td>Engelbertstraße</td>\n",
       "      <td>NaN</td>\n",
       "      <td>41462</td>\n",
       "      <td>Neuss</td>\n",
       "      <td>51.207104</td>\n",
       "      <td>6.671111</td>\n",
       "      <td>2014-03-18 16:45:31+01</td>\n",
       "      <td>{\"openingTimes\":[{\"applicable_days\":31,\"period...</td>\n",
       "      <td>2023-05-06</td>\n",
       "    </tr>\n",
       "    <tr>\n",
       "      <th>4</th>\n",
       "      <td>462</td>\n",
       "      <td>d7376c09-b449-4948-8706-15777971f03c</td>\n",
       "      <td>Aral Tankstelle</td>\n",
       "      <td>ARAL</td>\n",
       "      <td>Frankfurter Straße</td>\n",
       "      <td>323</td>\n",
       "      <td>40595</td>\n",
       "      <td>Düsseldorf</td>\n",
       "      <td>51.138004</td>\n",
       "      <td>6.904963</td>\n",
       "      <td>2014-03-18 16:45:31+01</td>\n",
       "      <td>{}</td>\n",
       "      <td>2023-05-06</td>\n",
       "    </tr>\n",
       "  </tbody>\n",
       "</table>\n",
       "</div>"
      ],
      "text/plain": [
       "   Unnamed: 0                                  uuid   \n",
       "0         115  64ec825f-740c-477a-b7c2-2121154ee8a7  \\\n",
       "1         260  fd99c048-3b6b-4943-8b93-838daefba76b   \n",
       "2         393  1241bc5a-5571-4cee-bce0-d0ab82000d8c   \n",
       "3         451  127035c1-a7c7-41db-9976-ab4cd14b7271   \n",
       "4         462  d7376c09-b449-4948-8706-15777971f03c   \n",
       "\n",
       "                                   name          brand              street   \n",
       "0                 TotalEnergies Erkrath  TotalEnergies          Kirchstr.   \\\n",
       "1  Shell Duesseldorf Karlsruher Str. 45          Shell     Karlsruher Str.   \n",
       "2                       Aral Tankstelle           ARAL             Südring   \n",
       "3                       Aral Tankstelle           ARAL     Engelbertstraße   \n",
       "4                       Aral Tankstelle           ARAL  Frankfurter Straße   \n",
       "\n",
       "  house_number  post_code         city   latitude  longitude   \n",
       "0           23      40699      Erkrath  51.223767   6.916481  \\\n",
       "1           45      40229  Duesseldorf  51.197512   6.841084   \n",
       "2          115      40221   Düsseldorf  51.201010   6.763259   \n",
       "3          NaN      41462        Neuss  51.207104   6.671111   \n",
       "4          323      40595   Düsseldorf  51.138004   6.904963   \n",
       "\n",
       "             first_active                                  openingtimes_json   \n",
       "0  2014-03-18 16:45:31+01  {\"openingTimes\":[{\"applicable_days\":63,\"period...  \\\n",
       "1  2014-03-18 16:45:31+01                                                 {}   \n",
       "2  2014-03-18 16:45:31+01                                                 {}   \n",
       "3  2014-03-18 16:45:31+01  {\"openingTimes\":[{\"applicable_days\":31,\"period...   \n",
       "4  2014-03-18 16:45:31+01                                                 {}   \n",
       "\n",
       "    file_date  \n",
       "0  2023-05-06  \n",
       "1  2023-05-06  \n",
       "2  2023-05-06  \n",
       "3  2023-05-06  \n",
       "4  2023-05-06  "
      ]
     },
     "execution_count": 9,
     "metadata": {},
     "output_type": "execute_result"
    }
   ],
   "source": [
    "stations.head()"
   ]
  },
  {
   "attachments": {},
   "cell_type": "markdown",
   "metadata": {},
   "source": [
    "## Find a station an its neighbors"
   ]
  },
  {
   "cell_type": "code",
   "execution_count": 10,
   "metadata": {},
   "outputs": [],
   "source": [
    "# enrich the station_matrix first\n",
    "stations_indexed = stations.copy()\n",
    "stations_indexed.set_index(\"uuid\", inplace=True)\n"
   ]
  },
  {
   "cell_type": "code",
   "execution_count": null,
   "metadata": {},
   "outputs": [
    {
     "data": {
      "text/html": [
       "<div>\n",
       "<style scoped>\n",
       "    .dataframe tbody tr th:only-of-type {\n",
       "        vertical-align: middle;\n",
       "    }\n",
       "\n",
       "    .dataframe tbody tr th {\n",
       "        vertical-align: top;\n",
       "    }\n",
       "\n",
       "    .dataframe thead th {\n",
       "        text-align: right;\n",
       "    }\n",
       "</style>\n",
       "<table border=\"1\" class=\"dataframe\">\n",
       "  <thead>\n",
       "    <tr style=\"text-align: right;\">\n",
       "      <th></th>\n",
       "      <th>name</th>\n",
       "      <th>brand</th>\n",
       "      <th>street</th>\n",
       "      <th>house_number</th>\n",
       "      <th>post_code</th>\n",
       "      <th>city</th>\n",
       "      <th>latitude</th>\n",
       "      <th>longitude</th>\n",
       "      <th>first_active</th>\n",
       "      <th>openingtimes_json</th>\n",
       "      <th>file_date</th>\n",
       "    </tr>\n",
       "    <tr>\n",
       "      <th>uuid</th>\n",
       "      <th></th>\n",
       "      <th></th>\n",
       "      <th></th>\n",
       "      <th></th>\n",
       "      <th></th>\n",
       "      <th></th>\n",
       "      <th></th>\n",
       "      <th></th>\n",
       "      <th></th>\n",
       "      <th></th>\n",
       "      <th></th>\n",
       "    </tr>\n",
       "  </thead>\n",
       "  <tbody>\n",
       "    <tr>\n",
       "      <th>64ec825f-740c-477a-b7c2-2121154ee8a7</th>\n",
       "      <td>TotalEnergies Erkrath</td>\n",
       "      <td>TotalEnergies</td>\n",
       "      <td>Kirchstr.</td>\n",
       "      <td>23</td>\n",
       "      <td>40699</td>\n",
       "      <td>Erkrath</td>\n",
       "      <td>51.223767</td>\n",
       "      <td>6.916481</td>\n",
       "      <td>2014-03-18 16:45:31+01</td>\n",
       "      <td>{\"openingTimes\":[{\"applicable_days\":63,\"period...</td>\n",
       "      <td>2023-05-06</td>\n",
       "    </tr>\n",
       "    <tr>\n",
       "      <th>fd99c048-3b6b-4943-8b93-838daefba76b</th>\n",
       "      <td>Shell Duesseldorf Karlsruher Str. 45</td>\n",
       "      <td>Shell</td>\n",
       "      <td>Karlsruher Str.</td>\n",
       "      <td>45</td>\n",
       "      <td>40229</td>\n",
       "      <td>Duesseldorf</td>\n",
       "      <td>51.197512</td>\n",
       "      <td>6.841084</td>\n",
       "      <td>2014-03-18 16:45:31+01</td>\n",
       "      <td>{}</td>\n",
       "      <td>2023-05-06</td>\n",
       "    </tr>\n",
       "    <tr>\n",
       "      <th>1241bc5a-5571-4cee-bce0-d0ab82000d8c</th>\n",
       "      <td>Aral Tankstelle</td>\n",
       "      <td>ARAL</td>\n",
       "      <td>Südring</td>\n",
       "      <td>115</td>\n",
       "      <td>40221</td>\n",
       "      <td>Düsseldorf</td>\n",
       "      <td>51.201010</td>\n",
       "      <td>6.763259</td>\n",
       "      <td>2014-03-18 16:45:31+01</td>\n",
       "      <td>{}</td>\n",
       "      <td>2023-05-06</td>\n",
       "    </tr>\n",
       "    <tr>\n",
       "      <th>127035c1-a7c7-41db-9976-ab4cd14b7271</th>\n",
       "      <td>Aral Tankstelle</td>\n",
       "      <td>ARAL</td>\n",
       "      <td>Engelbertstraße</td>\n",
       "      <td>NaN</td>\n",
       "      <td>41462</td>\n",
       "      <td>Neuss</td>\n",
       "      <td>51.207104</td>\n",
       "      <td>6.671111</td>\n",
       "      <td>2014-03-18 16:45:31+01</td>\n",
       "      <td>{\"openingTimes\":[{\"applicable_days\":31,\"period...</td>\n",
       "      <td>2023-05-06</td>\n",
       "    </tr>\n",
       "    <tr>\n",
       "      <th>d7376c09-b449-4948-8706-15777971f03c</th>\n",
       "      <td>Aral Tankstelle</td>\n",
       "      <td>ARAL</td>\n",
       "      <td>Frankfurter Straße</td>\n",
       "      <td>323</td>\n",
       "      <td>40595</td>\n",
       "      <td>Düsseldorf</td>\n",
       "      <td>51.138004</td>\n",
       "      <td>6.904963</td>\n",
       "      <td>2014-03-18 16:45:31+01</td>\n",
       "      <td>{}</td>\n",
       "      <td>2023-05-06</td>\n",
       "    </tr>\n",
       "  </tbody>\n",
       "</table>\n",
       "</div>"
      ],
      "text/plain": [
       "                                                                      name   \n",
       "uuid                                                                         \n",
       "64ec825f-740c-477a-b7c2-2121154ee8a7                 TotalEnergies Erkrath  \\\n",
       "fd99c048-3b6b-4943-8b93-838daefba76b  Shell Duesseldorf Karlsruher Str. 45   \n",
       "1241bc5a-5571-4cee-bce0-d0ab82000d8c                       Aral Tankstelle   \n",
       "127035c1-a7c7-41db-9976-ab4cd14b7271                       Aral Tankstelle   \n",
       "d7376c09-b449-4948-8706-15777971f03c                       Aral Tankstelle   \n",
       "\n",
       "                                              brand              street   \n",
       "uuid                                                                      \n",
       "64ec825f-740c-477a-b7c2-2121154ee8a7  TotalEnergies          Kirchstr.   \\\n",
       "fd99c048-3b6b-4943-8b93-838daefba76b          Shell     Karlsruher Str.   \n",
       "1241bc5a-5571-4cee-bce0-d0ab82000d8c           ARAL             Südring   \n",
       "127035c1-a7c7-41db-9976-ab4cd14b7271           ARAL     Engelbertstraße   \n",
       "d7376c09-b449-4948-8706-15777971f03c           ARAL  Frankfurter Straße   \n",
       "\n",
       "                                     house_number  post_code         city   \n",
       "uuid                                                                        \n",
       "64ec825f-740c-477a-b7c2-2121154ee8a7           23      40699      Erkrath  \\\n",
       "fd99c048-3b6b-4943-8b93-838daefba76b           45      40229  Duesseldorf   \n",
       "1241bc5a-5571-4cee-bce0-d0ab82000d8c          115      40221   Düsseldorf   \n",
       "127035c1-a7c7-41db-9976-ab4cd14b7271          NaN      41462        Neuss   \n",
       "d7376c09-b449-4948-8706-15777971f03c          323      40595   Düsseldorf   \n",
       "\n",
       "                                       latitude  longitude   \n",
       "uuid                                                         \n",
       "64ec825f-740c-477a-b7c2-2121154ee8a7  51.223767   6.916481  \\\n",
       "fd99c048-3b6b-4943-8b93-838daefba76b  51.197512   6.841084   \n",
       "1241bc5a-5571-4cee-bce0-d0ab82000d8c  51.201010   6.763259   \n",
       "127035c1-a7c7-41db-9976-ab4cd14b7271  51.207104   6.671111   \n",
       "d7376c09-b449-4948-8706-15777971f03c  51.138004   6.904963   \n",
       "\n",
       "                                                first_active   \n",
       "uuid                                                           \n",
       "64ec825f-740c-477a-b7c2-2121154ee8a7  2014-03-18 16:45:31+01  \\\n",
       "fd99c048-3b6b-4943-8b93-838daefba76b  2014-03-18 16:45:31+01   \n",
       "1241bc5a-5571-4cee-bce0-d0ab82000d8c  2014-03-18 16:45:31+01   \n",
       "127035c1-a7c7-41db-9976-ab4cd14b7271  2014-03-18 16:45:31+01   \n",
       "d7376c09-b449-4948-8706-15777971f03c  2014-03-18 16:45:31+01   \n",
       "\n",
       "                                                                      openingtimes_json   \n",
       "uuid                                                                                      \n",
       "64ec825f-740c-477a-b7c2-2121154ee8a7  {\"openingTimes\":[{\"applicable_days\":63,\"period...  \\\n",
       "fd99c048-3b6b-4943-8b93-838daefba76b                                                 {}   \n",
       "1241bc5a-5571-4cee-bce0-d0ab82000d8c                                                 {}   \n",
       "127035c1-a7c7-41db-9976-ab4cd14b7271  {\"openingTimes\":[{\"applicable_days\":31,\"period...   \n",
       "d7376c09-b449-4948-8706-15777971f03c                                                 {}   \n",
       "\n",
       "                                       file_date  \n",
       "uuid                                              \n",
       "64ec825f-740c-477a-b7c2-2121154ee8a7  2023-05-06  \n",
       "fd99c048-3b6b-4943-8b93-838daefba76b  2023-05-06  \n",
       "1241bc5a-5571-4cee-bce0-d0ab82000d8c  2023-05-06  \n",
       "127035c1-a7c7-41db-9976-ab4cd14b7271  2023-05-06  \n",
       "d7376c09-b449-4948-8706-15777971f03c  2023-05-06  "
      ]
     },
     "execution_count": 19,
     "metadata": {},
     "output_type": "execute_result"
    }
   ],
   "source": [
    "stations_indexed.head()"
   ]
  },
  {
   "attachments": {},
   "cell_type": "markdown",
   "metadata": {},
   "source": [
    "### Center view around one station\n"
   ]
  },
  {
   "cell_type": "code",
   "execution_count": 78,
   "metadata": {},
   "outputs": [
    {
     "data": {
      "application/vnd.plotly.v1+json": {
       "config": {
        "plotlyServerURL": "https://plot.ly"
       },
       "data": [
        {
         "customdata": [
          [
           "TotalEnergies Erkrath",
           "TotalEnergies"
          ],
          [
           "TotalEnergies Hilden",
           "TotalEnergies"
          ],
          [
           "TotalEnergies Erkrath-Hochdahl",
           "TotalEnergies"
          ],
          [
           "TotalEnergies Ratingen",
           "TotalEnergies"
          ],
          [
           "TotalEnergies Duesseldorf",
           "TotalEnergies"
          ],
          [
           "TotalEnergies Duesseldorf",
           "TotalEnergies"
          ],
          [
           "TotalEnergies Duesseldorf",
           "TotalEnergies"
          ],
          [
           "TotalEnergies Duesseldorf",
           "TotalEnergies"
          ],
          [
           "TotalEnergies Duesseldorf",
           "TotalEnergies"
          ]
         ],
         "hovertemplate": "<b>%{hovertext}</b><br><br>brand=%{customdata[1]}<br>latitude=%{lat}<br>longitude=%{lon}<br>name=%{customdata[0]}<extra></extra>",
         "hovertext": [
          "64ec825f-740c-477a-b7c2-2121154ee8a7",
          "f254c89f-274e-45ba-b1f6-b73deafdef93",
          "fcdaddc5-7dc1-49f9-8286-71e8664f9e17",
          "79fb1f24-bebb-489e-841f-728f9053b555",
          "bafaee0b-10b7-475f-abe7-2bc15d9afceb",
          "ad72e182-4a20-4b5c-8204-92de8d97da3e",
          "b63d9d27-e74f-4c6e-8dfe-aa7784bba6f7",
          "61d78973-1b05-4f36-a631-c087db30fdcc",
          "5125f112-5d50-4a79-8751-70e7c31fa7fe"
         ],
         "lat": [
          51.223767,
          51.158335,
          51.215549,
          51.295966,
          51.271852,
          51.200071,
          51.168945,
          51.214427,
          51.222132
         ],
         "legendgroup": "TotalEnergies",
         "lon": [
          6.916481,
          6.938557,
          6.949858,
          6.86676,
          6.816438,
          6.767971,
          6.875034,
          6.864853,
          6.820284
         ],
         "marker": {
          "color": "#3366CC"
         },
         "mode": "markers",
         "name": "TotalEnergies",
         "showlegend": true,
         "subplot": "mapbox",
         "type": "scattermapbox"
        },
        {
         "customdata": [
          [
           "Shell Duesseldorf Karlsruher Str. 45",
           "Shell"
          ],
          [
           "Shell Duesseldorf Suedring 9",
           "Shell"
          ],
          [
           "Shell Duesseldorf Koelner Landstr. 73",
           "Shell"
          ],
          [
           "Shell Duesseldorf Kruppstr. 55",
           "Shell"
          ],
          [
           "Shell Duesseldorf Caecilienstr. 30",
           "Shell"
          ],
          [
           "Shell Duesseldorf Aufm Hennekamp 5",
           "Shell"
          ],
          [
           "Shell Hilden Walder Str. 425",
           "Shell"
          ],
          [
           "Shell Meerbusch Neusser Str. 19b",
           "Shell"
          ],
          [
           "Shell Ratingen Speestr.",
           "Shell"
          ],
          [
           "Shell Neuss Düsseldorferstr. 67",
           "Shell"
          ],
          [
           "Shell Duesseldorf Muensterstr. 328",
           "Shell"
          ],
          [
           "RATINGEN, BAT HÖSEL (OSTSEIT",
           "Shell"
          ],
          [
           "DUESSELDORF, GRAFENBERGER ALLEE",
           "Shell"
          ],
          [
           "DUESSELDORF, VOELKLINGER STR.",
           "Shell"
          ],
          [
           "Shell Duesseldorf Henkelstr. 306",
           "Shell"
          ],
          [
           "Shell Duesseldorf Kieshecker Weg 256",
           "Shell"
          ],
          [
           "Shell Ratingen Brachter Str. 36",
           "Shell"
          ],
          [
           "Shell Duesseldorf Fischerstr. 9-15",
           "Shell"
          ],
          [
           "Shell Duesseldorf Niederrheinstr. 135",
           "Shell"
          ],
          [
           "Shell Erkrath Max-Planck-Str. 81",
           "Shell"
          ],
          [
           "Shell Hilden Hochdahler Str. 192",
           "Shell"
          ],
          [
           "Shell Duesseldorf Ronsdorfer Str. 95",
           "Shell"
          ],
          [
           "Shell Neuss Bergheimer Str. 415",
           "Shell"
          ],
          [
           "Shell Neuss Juelicher Land 115",
           "Shell"
          ],
          [
           "Shell Duesseldorf Frankfurter Str 197",
           "Shell"
          ],
          [
           "Shell Meerbusch Xantener Str. 49",
           "Shell"
          ]
         ],
         "hovertemplate": "<b>%{hovertext}</b><br><br>brand=%{customdata[1]}<br>latitude=%{lat}<br>longitude=%{lon}<br>name=%{customdata[0]}<extra></extra>",
         "hovertext": [
          "fd99c048-3b6b-4943-8b93-838daefba76b",
          "8d3cd774-8fb2-41d4-856a-26b299bfb8d8",
          "69d4d0be-ab2b-4e65-ac9e-2a1fca892e90",
          "ce4a5ad3-003a-490b-92b4-c00d5a17ce1b",
          "bc554df8-1200-4072-9afc-5759e749b43d",
          "b30c887a-3f9b-4890-a2c1-60b5f09d98b6",
          "e6c55dfa-c64b-44e1-913b-58e216d614e5",
          "e9dbe860-031d-42d2-a96c-8a958df9f764",
          "c73fa27f-764e-44c3-9e2d-73d6faa8ae84",
          "fa6624d4-7bb9-4b17-9e56-31e0040428d1",
          "a51fe747-5541-45fc-a225-7e73d1b3df8a",
          "b605dd15-57f6-495a-b1f9-645731f11272",
          "9f1a9948-4a60-4db6-8ac5-0fdffcf51613",
          "2211d99b-c1c3-4316-bcff-a38eb5f0135f",
          "21a4932a-9cea-4fac-bdd1-c305bf6ade43",
          "8917c28b-b08d-4b97-8219-43ecb69079bb",
          "e7807347-796f-4aac-997d-07d0c988e109",
          "98cc4474-55f0-4b23-a643-8687ad5853ec",
          "9791361c-7a76-4175-adc9-3104bbdf3ebd",
          "90c3884d-9008-46e9-9379-c1061c0dee87",
          "32647103-5179-436f-82fd-f7407590a226",
          "d8d18039-46e8-4e65-8815-37d83b2dc5ac",
          "19c2a927-ba55-4480-9606-9388bc51ace8",
          "1b3938ef-cd3a-499a-9a67-e73af8a56739",
          "05587e8f-e6b4-4a55-93cd-917b5d37a35a",
          "d08f7052-f3cf-4374-b96b-ee46b55adfcd"
         ],
         "lat": [
          51.197512,
          51.200851,
          51.193808,
          51.21279,
          51.165996,
          51.202396,
          51.167922,
          51.242918,
          51.336911,
          51.214256,
          51.252562,
          51.325534,
          51.234072,
          51.209977,
          51.179044,
          51.2804,
          51.295287,
          51.236184,
          51.278118,
          51.200445,
          51.179856,
          51.217023,
          51.173392,
          51.183771,
          51.149599,
          51.285218
         ],
         "legendgroup": "Shell",
         "lon": [
          6.841084,
          6.774994,
          6.813494,
          6.797591,
          6.873567,
          6.781376,
          6.983746,
          6.698049,
          6.83471,
          6.693751,
          6.80165,
          6.891643,
          6.816542,
          6.758835,
          6.859483,
          6.772591,
          6.914963,
          6.777523,
          6.741879,
          6.93931,
          6.939318,
          6.818992,
          6.686733,
          6.678931,
          6.894037,
          6.659646
         ],
         "marker": {
          "color": "#DC3912"
         },
         "mode": "markers",
         "name": "Shell",
         "showlegend": true,
         "subplot": "mapbox",
         "type": "scattermapbox"
        },
        {
         "customdata": [
          [
           "Aral Tankstelle",
           "ARAL"
          ],
          [
           "Aral Tankstelle",
           "ARAL"
          ],
          [
           "Aral Tankstelle",
           "ARAL"
          ],
          [
           "Aral Tankstelle",
           "ARAL"
          ],
          [
           "Aral Tankstelle",
           "ARAL"
          ],
          [
           "Aral Tankstelle",
           "ARAL"
          ],
          [
           "Aral Tankstelle",
           "ARAL"
          ],
          [
           "Aral Tankstelle",
           "ARAL"
          ],
          [
           "Aral Tankstelle",
           "ARAL"
          ],
          [
           "Aral Tankstelle",
           "ARAL"
          ],
          [
           "Aral Tankstelle",
           "ARAL"
          ],
          [
           "Aral Tankstelle",
           "ARAL"
          ],
          [
           "Aral Tankstelle",
           "ARAL"
          ],
          [
           "Aral Tankstelle",
           "ARAL"
          ],
          [
           "Aral Tankstelle",
           "ARAL"
          ],
          [
           "Aral Tankstelle",
           "ARAL"
          ],
          [
           "Aral Tankstelle",
           "ARAL"
          ],
          [
           "Aral Tankstelle",
           "ARAL"
          ],
          [
           "Aral Tankstelle",
           "ARAL"
          ],
          [
           "Aral Tankstelle",
           "ARAL"
          ],
          [
           "Aral Tankstelle",
           "ARAL"
          ],
          [
           "Aral Tankstelle",
           "ARAL"
          ],
          [
           "AH Hohenstein",
           "ARAL"
          ],
          [
           "Aral Tankstelle, Ratingen Hohenstein",
           "ARAL"
          ]
         ],
         "hovertemplate": "<b>%{hovertext}</b><br><br>brand=%{customdata[1]}<br>latitude=%{lat}<br>longitude=%{lon}<br>name=%{customdata[0]}<extra></extra>",
         "hovertext": [
          "1241bc5a-5571-4cee-bce0-d0ab82000d8c",
          "127035c1-a7c7-41db-9976-ab4cd14b7271",
          "d7376c09-b449-4948-8706-15777971f03c",
          "9533193d-3024-4fe2-a0c3-c6d660087112",
          "cba0a43e-e52f-476a-a047-8f7138f3f646",
          "14a9f9a8-fb49-45fc-b946-51c791e60990",
          "e1dc26cc-82e0-4d77-b6ac-9af9d7c0832a",
          "f027019a-34a2-45e8-b051-9270f8634cf7",
          "cb138b9c-6bbb-4394-8db2-cdd480e4e7c5",
          "748b6d98-64f6-4030-86c7-26887a915eb3",
          "7d09ea41-77b4-4e0a-b2e1-5611b990ca3c",
          "86f4e629-3746-4f9f-8cf9-989cf6367afa",
          "44afad52-0417-459c-9951-8ba9457c2092",
          "9d92e206-e5b7-4820-8cc0-709112aabca0",
          "aa221bd6-3dd1-47ec-a935-e06d4c779a57",
          "b5a6d284-d502-425f-bd11-f8acfe874239",
          "39add580-4053-4eb2-8a4a-2744c249c48c",
          "529b7b56-0ff8-4f37-b116-d3b0144bf207",
          "61f82d94-1280-4fbe-9c36-e3c40d6967ea",
          "4c3ce577-f3db-428c-b5ff-d544c8e8349d",
          "c21ccfa9-5071-4801-a8ad-4653172bf4b6",
          "a47189f4-0947-4601-ae8e-01c599ba3b66",
          "011ba4a2-c12b-4d3f-a96d-8cbf1d1e8585",
          "da6f245b-5aa2-419c-b00e-5daf159bdfc1"
         ],
         "lat": [
          51.20101,
          51.2071037,
          51.1380043,
          51.288662,
          51.18164,
          51.33845,
          51.2333336,
          51.2044067,
          51.28516,
          51.1690521,
          51.24112,
          51.2479172,
          51.2650871,
          51.23985,
          51.2095375,
          51.2415924,
          51.15772,
          51.1704254,
          51.26051,
          51.1742744,
          51.21241,
          51.20161,
          51.29028,
          51.2905464
         ],
         "legendgroup": "ARAL",
         "lon": [
          6.763259,
          6.671111,
          6.904963,
          6.827508,
          6.688258,
          6.869088,
          6.727858,
          6.97023,
          6.659503,
          6.822734,
          6.743643,
          6.801548,
          6.753424,
          6.744074,
          6.810053,
          6.797076,
          6.731179,
          6.859408,
          6.908724,
          6.737947,
          6.857821,
          6.904797,
          6.804525,
          6.8044
         ],
         "marker": {
          "color": "#FF9900"
         },
         "mode": "markers",
         "name": "ARAL",
         "showlegend": true,
         "subplot": "mapbox",
         "type": "scattermapbox"
        },
        {
         "customdata": [
          [
           "OIL! Tankstelle Düsseldorf",
           "OIL!"
          ],
          [
           "OIL! Tankstelle Düsseldorf",
           "OIL!"
          ]
         ],
         "hovertemplate": "<b>%{hovertext}</b><br><br>brand=%{customdata[1]}<br>latitude=%{lat}<br>longitude=%{lon}<br>name=%{customdata[0]}<extra></extra>",
         "hovertext": [
          "d27a7d15-3fc1-4880-88bd-e981ff6ed5f9",
          "1a3afe4f-3a92-49ac-a453-7bcdf0c4f47b"
         ],
         "lat": [
          51.246,
          51.3247
         ],
         "legendgroup": "OIL!",
         "lon": [
          6.72268,
          6.77333
         ],
         "marker": {
          "color": "#109618"
         },
         "mode": "markers",
         "name": "OIL!",
         "showlegend": true,
         "subplot": "mapbox",
         "type": "scattermapbox"
        },
        {
         "customdata": [
          [
           "Esso Tankstelle",
           "ESSO"
          ],
          [
           "Esso Tankstelle",
           "ESSO"
          ],
          [
           "Esso Tankstelle",
           "ESSO"
          ],
          [
           "Esso Tankstelle",
           "ESSO"
          ],
          [
           "Esso Tankstelle",
           "ESSO"
          ],
          [
           "Esso Tankstelle",
           "ESSO"
          ],
          [
           "Esso Tankstelle",
           "ESSO"
          ],
          [
           "Esso Tankstelle",
           "ESSO"
          ],
          [
           "Esso Tankstelle",
           "ESSO"
          ],
          [
           "Esso Tankstelle",
           "ESSO"
          ],
          [
           "Esso Tankstelle",
           "ESSO"
          ],
          [
           "Esso Tankstelle",
           "ESSO"
          ],
          [
           "Esso Tankstelle",
           "ESSO"
          ],
          [
           "Esso Tankstelle",
           "ESSO"
          ],
          [
           "Esso Tankstelle",
           "ESSO"
          ],
          [
           "Esso Tankstelle",
           "ESSO"
          ],
          [
           "Esso Tankstelle",
           "ESSO"
          ],
          [
           "Esso Tankstelle",
           "ESSO"
          ],
          [
           "Esso Tankstelle",
           "ESSO"
          ],
          [
           "Esso Tankstelle",
           "ESSO"
          ],
          [
           "Esso Tankstelle",
           "ESSO"
          ]
         ],
         "hovertemplate": "<b>%{hovertext}</b><br><br>brand=%{customdata[1]}<br>latitude=%{lat}<br>longitude=%{lon}<br>name=%{customdata[0]}<extra></extra>",
         "hovertext": [
          "a9b14f40-30ee-4550-b998-55f2981c6025",
          "e43c09b0-5baa-4738-962a-c94388e93c30",
          "72f7a2d4-1b77-4556-a45e-8abfb804fb3b",
          "48f7ddf7-1ef2-4e29-b62b-556f4c7193f0",
          "8ff8a3d4-184d-4676-8906-34bfcc752423",
          "f13e6623-a528-46e2-9b40-e0b8ebde0504",
          "bf8bcacf-84c0-4581-9c85-55d2f1e5a003",
          "af55b83b-f6d2-4bf0-912d-b89156ade413",
          "d2809537-9960-48ff-ba5c-b471666e414a",
          "c27625b7-9c45-4260-8cd1-cd3543dd2ad2",
          "7e4c09ab-ab7d-4a13-af99-d043a611e410",
          "a84e1f3f-768a-4106-b77e-3697a0f96a8e",
          "9f2b85c2-f137-4f96-b4e4-240bd3bfdc8b",
          "30041ebf-0cd8-4b3b-ba03-f1f0aca560df",
          "11b29c87-d728-4365-95c5-39c5a52418d5",
          "646a461e-2341-4b5f-8f8b-09edc8f7d22c",
          "6036f1bd-e690-4518-bc99-733759d2f8c1",
          "5e3c22de-18c6-4715-aa36-bc61244fd431",
          "0e4d959e-743d-41fd-8323-b435a0b458ba",
          "dc7f0632-974c-4e2f-a64b-e4f3ea027b46",
          "82119d5d-775f-42af-ac56-000d7c91413f"
         ],
         "lat": [
          51.247859,
          51.338806,
          51.281741,
          51.259169,
          51.207562,
          51.323081,
          51.261017,
          51.246959,
          51.181511,
          51.202875,
          51.289585,
          51.310723,
          51.303487,
          51.226825,
          51.19882,
          51.254336,
          51.245674,
          51.303623,
          51.16631,
          51.18888,
          51.3255079
         ],
         "legendgroup": "ESSO",
         "lon": [
          6.796692,
          6.868755,
          6.794695,
          6.778564,
          6.766873,
          6.770117,
          6.796505,
          6.777341,
          6.9401,
          6.785273,
          6.838902,
          6.678184,
          6.671054,
          6.857289,
          6.71043,
          6.782436,
          6.854814,
          6.740373,
          6.733911,
          6.864575,
          6.8917528
         ],
         "marker": {
          "color": "#990099"
         },
         "mode": "markers",
         "name": "ESSO",
         "showlegend": true,
         "subplot": "mapbox",
         "type": "scattermapbox"
        },
        {
         "customdata": [
          [
           "Elan Meerbusch",
           "ELAN"
          ],
          [
           "Elan Duesseldorf",
           "ELAN"
          ]
         ],
         "hovertemplate": "<b>%{hovertext}</b><br><br>brand=%{customdata[1]}<br>latitude=%{lat}<br>longitude=%{lon}<br>name=%{customdata[0]}<extra></extra>",
         "hovertext": [
          "c5bd15b5-5019-4421-8c85-25a21b4642e1",
          "ff55d404-3609-48b2-b16a-ef4a9f2008a0"
         ],
         "lat": [
          51.249692,
          51.229816
         ],
         "legendgroup": "ELAN",
         "lon": [
          6.690727,
          6.847744
         ],
         "marker": {
          "color": "#0099C6"
         },
         "mode": "markers",
         "name": "ELAN",
         "showlegend": true,
         "subplot": "mapbox",
         "type": "scattermapbox"
        },
        {
         "customdata": [
          [
           "Düsseldorf, Karl-Geusen-Str. 171a",
           "HEM"
          ]
         ],
         "hovertemplate": "<b>%{hovertext}</b><br><br>brand=%{customdata[1]}<br>latitude=%{lat}<br>longitude=%{lon}<br>name=%{customdata[0]}<extra></extra>",
         "hovertext": [
          "ee34d5a4-be1a-2a3a-e040-0b0a3dfe5d3f"
         ],
         "lat": [
          51.206769
         ],
         "legendgroup": "HEM",
         "lon": [
          6.822315
         ],
         "marker": {
          "color": "#DD4477"
         },
         "mode": "markers",
         "name": "HEM",
         "showlegend": true,
         "subplot": "mapbox",
         "type": "scattermapbox"
        },
        {
         "customdata": [
          [
           "Sprint Düsseldorf Ronsdorfer Str.",
           "Sprint"
          ],
          [
           "Sprint Düsseldorf Ulmenstr.",
           "Sprint"
          ]
         ],
         "hovertemplate": "<b>%{hovertext}</b><br><br>brand=%{customdata[1]}<br>latitude=%{lat}<br>longitude=%{lon}<br>name=%{customdata[0]}<extra></extra>",
         "hovertext": [
          "71d6e839-fa23-4192-b875-3dfe1b495722",
          "d4c0774d-ed52-4626-a0d2-500b2319c696"
         ],
         "lat": [
          51.2186,
          51.2621
         ],
         "legendgroup": "Sprint",
         "lon": [
          6.81913,
          6.77649
         ],
         "marker": {
          "color": "#66AA00"
         },
         "mode": "markers",
         "name": "Sprint",
         "showlegend": true,
         "subplot": "mapbox",
         "type": "scattermapbox"
        },
        {
         "customdata": [
          [
           "AVIA Tankstelle",
           "AVIA"
          ],
          [
           "AVIA Willert",
           "AVIA"
          ]
         ],
         "hovertemplate": "<b>%{hovertext}</b><br><br>brand=%{customdata[1]}<br>latitude=%{lat}<br>longitude=%{lon}<br>name=%{customdata[0]}<extra></extra>",
         "hovertext": [
          "fdc30c82-9cdf-4fd9-a000-bc2bfe0fc7bf",
          "19a63af8-7a51-434f-b16e-162b8785a562"
         ],
         "lat": [
          51.13854,
          51.33346
         ],
         "legendgroup": "AVIA",
         "lon": [
          6.900355,
          6.90406
         ],
         "marker": {
          "color": "#B82E2E"
         },
         "mode": "markers",
         "name": "AVIA",
         "showlegend": true,
         "subplot": "mapbox",
         "type": "scattermapbox"
        },
        {
         "customdata": [
          [
           "TOTAL DUESSELDORF",
           "TOTAL"
          ]
         ],
         "hovertemplate": "<b>%{hovertext}</b><br><br>brand=%{customdata[1]}<br>latitude=%{lat}<br>longitude=%{lon}<br>name=%{customdata[0]}<extra></extra>",
         "hovertext": [
          "c8608399-adf3-4162-8321-0f313ff043ac"
         ],
         "lat": [
          51.206093
         ],
         "legendgroup": "TOTAL",
         "lon": [
          6.832643
         ],
         "marker": {
          "color": "#316395"
         },
         "mode": "markers",
         "name": "TOTAL",
         "showlegend": true,
         "subplot": "mapbox",
         "type": "scattermapbox"
        },
        {
         "customdata": [
          [
           "Freie Tankstelle",
           "Freie Tankstelle"
          ],
          [
           "FluS Handelsgesellschaft mbH",
           "Freie Tankstelle"
          ],
          [
           "TSB Tankstellenbetriebs-GmbH",
           "Freie Tankstelle"
          ]
         ],
         "hovertemplate": "<b>%{hovertext}</b><br><br>brand=%{customdata[1]}<br>latitude=%{lat}<br>longitude=%{lon}<br>name=%{customdata[0]}<extra></extra>",
         "hovertext": [
          "67765d63-fec8-4545-9c09-940ea88a8566",
          "29b23e79-9606-4911-926d-1f72c57f088f",
          "404b23d9-3446-4b68-ab7e-3fdced82c872"
         ],
         "lat": [
          51.267893,
          51.220812,
          51.238475
         ],
         "legendgroup": "Freie Tankstelle",
         "lon": [
          6.638916,
          6.938609,
          6.797713
         ],
         "marker": {
          "color": "#3366CC"
         },
         "mode": "markers",
         "name": "Freie Tankstelle",
         "showlegend": true,
         "subplot": "mapbox",
         "type": "scattermapbox"
        },
        {
         "customdata": [
          [
           "CleanCar AG",
           "CleanCar AG"
          ]
         ],
         "hovertemplate": "<b>%{hovertext}</b><br><br>brand=%{customdata[1]}<br>latitude=%{lat}<br>longitude=%{lon}<br>name=%{customdata[0]}<extra></extra>",
         "hovertext": [
          "d2ffa861-746f-40d0-320e-73c0218d94e8"
         ],
         "lat": [
          51.20894
         ],
         "legendgroup": "CleanCar AG",
         "lon": [
          6.68936
         ],
         "marker": {
          "color": "#FF9900"
         },
         "mode": "markers",
         "name": "CleanCar AG",
         "showlegend": true,
         "subplot": "mapbox",
         "type": "scattermapbox"
        },
        {
         "customdata": [
          [
           "JET NEUSS JUELICHER LANDSTR. 52",
           "JET"
          ],
          [
           "JET DUESSELDORF RATHER BROICH 151",
           "JET"
          ],
          [
           "JET NEUSS GLADBACHER STR. 19-27",
           "JET"
          ],
          [
           "JET DUESSELDORF WORRINGER STR. 33",
           "JET"
          ],
          [
           "JET MEERBUSCH MOERSER STRASSE 70",
           "JET"
          ],
          [
           "JET DUESSELDORF ERKRATHER STR. 368",
           "JET"
          ]
         ],
         "hovertemplate": "<b>%{hovertext}</b><br><br>brand=%{customdata[1]}<br>latitude=%{lat}<br>longitude=%{lon}<br>name=%{customdata[0]}<extra></extra>",
         "hovertext": [
          "51d4b60f-a095-1aa0-e100-80009459e03a",
          "51d4b6fa-a095-1aa0-e100-80009459e03a",
          "51d4b6c6-a095-1aa0-e100-80009459e03a",
          "51d4b683-a095-1aa0-e100-80009459e03a",
          "cd8ba6a6-6699-1ee4-bced-371b423e881b",
          "cd8ba6a6-6bb8-1ed6-85de-47223130c78f"
         ],
         "lat": [
          51.18751,
          51.2554,
          51.21796,
          51.22769,
          51.25672,
          51.2131
         ],
         "legendgroup": "JET",
         "lon": [
          6.6835,
          6.82178,
          6.66438,
          6.7963,
          6.68261,
          6.82463
         ],
         "marker": {
          "color": "#109618"
         },
         "mode": "markers",
         "name": "JET",
         "showlegend": true,
         "subplot": "mapbox",
         "type": "scattermapbox"
        },
        {
         "customdata": [
          [
           "PM",
           "PM"
          ],
          [
           "PM Duesseldorf Koelner Landstr. 244",
           "PM"
          ]
         ],
         "hovertemplate": "<b>%{hovertext}</b><br><br>brand=%{customdata[1]}<br>latitude=%{lat}<br>longitude=%{lon}<br>name=%{customdata[0]}<extra></extra>",
         "hovertext": [
          "92b97c69-05fb-4a6e-994a-f2a5a2581d0e",
          "eaba7fbc-709f-422d-979f-4d1e4816c6cc"
         ],
         "lat": [
          51.1849327,
          51.184968
         ],
         "legendgroup": "PM",
         "lon": [
          6.82082,
          6.820818
         ],
         "marker": {
          "color": "#990099"
         },
         "mode": "markers",
         "name": "PM",
         "showlegend": true,
         "subplot": "mapbox",
         "type": "scattermapbox"
        },
        {
         "customdata": [
          [
           "Duesseldorf, Burgunder Straße 36 a",
           "SB"
          ],
          [
           "SB Duesseldorf St.Franziskusstr. 194",
           "SB"
          ],
          [
           "Sb Duesseldorf Koelner Landstr. 350 A",
           "SB"
          ],
          [
           "Sb Duesseldorf Benderstr. 119-123",
           "SB"
          ],
          [
           "Sb Meerbusch Meerbuscher Str. 196",
           "SB"
          ]
         ],
         "hovertemplate": "<b>%{hovertext}</b><br><br>brand=%{customdata[1]}<br>latitude=%{lat}<br>longitude=%{lon}<br>name=%{customdata[0]}<extra></extra>",
         "hovertext": [
          "326ab132-2671-42a1-983a-9d0bdd29a121",
          "2b42f1b0-407e-41cc-ad95-107668c4cdec",
          "fbcdf8a7-b6ba-4ec3-ac4c-dde2f0f29934",
          "1704611a-48b0-4003-9003-e0a3ee061d4b",
          "2387601d-b2a5-4660-a8a0-a101cb391b49"
         ],
         "lat": [
          51.2264,
          51.2592,
          51.1799,
          51.23879,
          51.267024
         ],
         "legendgroup": "SB",
         "lon": [
          6.69799,
          6.81469,
          6.82738,
          6.84889,
          6.640451
         ],
         "marker": {
          "color": "#0099C6"
         },
         "mode": "markers",
         "name": "SB",
         "showlegend": true,
         "subplot": "mapbox",
         "type": "scattermapbox"
        },
        {
         "customdata": [
          [
           "Düsseldorf Völklinger Straße",
           "Mr. Wash Autoservice AG"
          ]
         ],
         "hovertemplate": "<b>%{hovertext}</b><br><br>brand=%{customdata[1]}<br>latitude=%{lat}<br>longitude=%{lon}<br>name=%{customdata[0]}<extra></extra>",
         "hovertext": [
          "a0fe47f7-1f70-4786-95d2-edfcdfbe25f1"
         ],
         "lat": [
          51.2084733
         ],
         "legendgroup": "Mr. Wash Autoservice AG",
         "lon": [
          6.7578747
         ],
         "marker": {
          "color": "#DD4477"
         },
         "mode": "markers",
         "name": "Mr. Wash Autoservice AG",
         "showlegend": true,
         "subplot": "mapbox",
         "type": "scattermapbox"
        },
        {
         "customdata": [
          [
           "Fricke",
           "Tankpoint"
          ]
         ],
         "hovertemplate": "<b>%{hovertext}</b><br><br>brand=%{customdata[1]}<br>latitude=%{lat}<br>longitude=%{lon}<br>name=%{customdata[0]}<extra></extra>",
         "hovertext": [
          "9a9aabaf-adee-4180-87cb-e1a4c7fcd33e"
         ],
         "lat": [
          51.2981
         ],
         "legendgroup": "Tankpoint",
         "lon": [
          6.83963
         ],
         "marker": {
          "color": "#66AA00"
         },
         "mode": "markers",
         "name": "Tankpoint",
         "showlegend": true,
         "subplot": "mapbox",
         "type": "scattermapbox"
        },
        {
         "customdata": [
          [
           "SVG Autohof Düsseldorf Oerschbachstraße",
           "SVG Düsseldorf"
          ],
          [
           "SVG Tankstelle Düsseldorf Albertstraße",
           "SVG Düsseldorf"
          ]
         ],
         "hovertemplate": "<b>%{hovertext}</b><br><br>brand=%{customdata[1]}<br>latitude=%{lat}<br>longitude=%{lon}<br>name=%{customdata[0]}<extra></extra>",
         "hovertext": [
          "26093b61-a5eb-42e1-9c66-d767b8fa131c",
          "09ee977e-c04e-4db1-98bf-b507b123423c"
         ],
         "lat": [
          51.18909,
          51.22056
         ],
         "legendgroup": "SVG Düsseldorf",
         "lon": [
          6.841976,
          6.806093
         ],
         "marker": {
          "color": "#B82E2E"
         },
         "mode": "markers",
         "name": "SVG Düsseldorf",
         "showlegend": true,
         "subplot": "mapbox",
         "type": "scattermapbox"
        },
        {
         "customdata": [
          [
           "star Tankstelle",
           "STAR"
          ],
          [
           "star Tankstelle",
           "STAR"
          ],
          [
           "star Tankstelle",
           "STAR"
          ],
          [
           "star Tankstelle",
           "STAR"
          ],
          [
           "star Tankstelle",
           "STAR"
          ],
          [
           "star Tankstelle",
           "STAR"
          ]
         ],
         "hovertemplate": "<b>%{hovertext}</b><br><br>brand=%{customdata[1]}<br>latitude=%{lat}<br>longitude=%{lon}<br>name=%{customdata[0]}<extra></extra>",
         "hovertext": [
          "005056ba-7cb6-1ed2-bceb-87f71ccd4d30",
          "005056ba-7cb6-1ed2-bceb-7e82e4910d2a",
          "005056ba-7cb6-1ed2-bceb-7ef561844d2a",
          "005056ba-7cb6-1ed2-bceb-80c585ca6d2b",
          "005056ba-7cb6-1ed2-bceb-82ea369c0d2d",
          "005056ba-7cb6-1ed2-bceb-91906e8e8d35"
         ],
         "lat": [
          51.176414,
          51.231963,
          51.26574,
          51.225475,
          51.298277,
          51.163644
         ],
         "legendgroup": "STAR",
         "lon": [
          6.938516,
          6.723723,
          6.8258,
          6.811112,
          6.855612,
          6.665672
         ],
         "marker": {
          "color": "#316395"
         },
         "mode": "markers",
         "name": "STAR",
         "showlegend": true,
         "subplot": "mapbox",
         "type": "scattermapbox"
        },
        {
         "customdata": [
          [
           "Q1 Tankstelle",
           "Q1"
          ]
         ],
         "hovertemplate": "<b>%{hovertext}</b><br><br>brand=%{customdata[1]}<br>latitude=%{lat}<br>longitude=%{lon}<br>name=%{customdata[0]}<extra></extra>",
         "hovertext": [
          "fa055334-b7bc-4773-9f8a-01c52a9002be"
         ],
         "lat": [
          51.2679
         ],
         "legendgroup": "Q1",
         "lon": [
          6.63097
         ],
         "marker": {
          "color": "#3366CC"
         },
         "mode": "markers",
         "name": "Q1",
         "showlegend": true,
         "subplot": "mapbox",
         "type": "scattermapbox"
        },
        {
         "customdata": [
          [
           "ORLEN Tankstelle",
           "ORLEN"
          ]
         ],
         "hovertemplate": "<b>%{hovertext}</b><br><br>brand=%{customdata[1]}<br>latitude=%{lat}<br>longitude=%{lon}<br>name=%{customdata[0]}<extra></extra>",
         "hovertext": [
          "005056ba-7cb6-1ed2-bceb-a58e7779cd41"
         ],
         "lat": [
          51.18453
         ],
         "legendgroup": "ORLEN",
         "lon": [
          6.719202
         ],
         "marker": {
          "color": "#DC3912"
         },
         "mode": "markers",
         "name": "ORLEN",
         "showlegend": true,
         "subplot": "mapbox",
         "type": "scattermapbox"
        },
        {
         "customdata": [
          [
           "Supermarkt-Tankstelle NEUSS JAGENBERGSTRASSE ",
           "Supermarkt-Tankstelle"
          ],
          [
           "Supermarkt-Tankstelle NEUSS BATAVERSTRASSE 93",
           "Supermarkt-Tankstelle"
          ]
         ],
         "hovertemplate": "<b>%{hovertext}</b><br><br>brand=%{customdata[1]}<br>latitude=%{lat}<br>longitude=%{lon}<br>name=%{customdata[0]}<extra></extra>",
         "hovertext": [
          "51d4b474-a095-1aa0-e100-80009459e03a",
          "51d4b574-a095-1aa0-e100-80009459e03a"
         ],
         "lat": [
          51.16402,
          51.23153
         ],
         "legendgroup": "Supermarkt-Tankstelle",
         "lon": [
          6.75338,
          6.68707
         ],
         "marker": {
          "color": "#FF9900"
         },
         "mode": "markers",
         "name": "Supermarkt-Tankstelle",
         "showlegend": true,
         "subplot": "mapbox",
         "type": "scattermapbox"
        },
        {
         "customdata": [
          [
           "Tramin City Tank",
           "Tramin City Tank"
          ]
         ],
         "hovertemplate": "<b>%{hovertext}</b><br><br>brand=%{customdata[1]}<br>latitude=%{lat}<br>longitude=%{lon}<br>name=%{customdata[0]}<extra></extra>",
         "hovertext": [
          "4eb30190-3a75-423f-a29b-845d12263c4e"
         ],
         "lat": [
          51.294528
         ],
         "legendgroup": "Tramin City Tank",
         "lon": [
          6.849498
         ],
         "marker": {
          "color": "#109618"
         },
         "mode": "markers",
         "name": "Tramin City Tank",
         "showlegend": true,
         "subplot": "mapbox",
         "type": "scattermapbox"
        },
        {
         "customdata": [
          [
           "Automatentankstelle",
           "Markant (Tankautomat)"
          ]
         ],
         "hovertemplate": "<b>%{hovertext}</b><br><br>brand=%{customdata[1]}<br>latitude=%{lat}<br>longitude=%{lon}<br>name=%{customdata[0]}<extra></extra>",
         "hovertext": [
          "c46c827b-be21-4444-bb79-930ccc3696c8"
         ],
         "lat": [
          51.18913
         ],
         "legendgroup": "Markant (Tankautomat)",
         "lon": [
          6.84608
         ],
         "marker": {
          "color": "#990099"
         },
         "mode": "markers",
         "name": "Markant (Tankautomat)",
         "showlegend": true,
         "subplot": "mapbox",
         "type": "scattermapbox"
        }
       ],
       "layout": {
        "height": 800,
        "legend": {
         "title": {
          "text": "brand"
         },
         "tracegroupgap": 0
        },
        "mapbox": {
         "center": {
          "lat": 51.223767,
          "lon": 6.916481
         },
         "domain": {
          "x": [
           0,
           1
          ],
          "y": [
           0,
           1
          ]
         },
         "style": "carto-positron",
         "zoom": 12
        },
        "selections": [
         {}
        ],
        "template": {
         "data": {
          "bar": [
           {
            "error_x": {
             "color": "#2a3f5f"
            },
            "error_y": {
             "color": "#2a3f5f"
            },
            "marker": {
             "line": {
              "color": "#E5ECF6",
              "width": 0.5
             },
             "pattern": {
              "fillmode": "overlay",
              "size": 10,
              "solidity": 0.2
             }
            },
            "type": "bar"
           }
          ],
          "barpolar": [
           {
            "marker": {
             "line": {
              "color": "#E5ECF6",
              "width": 0.5
             },
             "pattern": {
              "fillmode": "overlay",
              "size": 10,
              "solidity": 0.2
             }
            },
            "type": "barpolar"
           }
          ],
          "carpet": [
           {
            "aaxis": {
             "endlinecolor": "#2a3f5f",
             "gridcolor": "white",
             "linecolor": "white",
             "minorgridcolor": "white",
             "startlinecolor": "#2a3f5f"
            },
            "baxis": {
             "endlinecolor": "#2a3f5f",
             "gridcolor": "white",
             "linecolor": "white",
             "minorgridcolor": "white",
             "startlinecolor": "#2a3f5f"
            },
            "type": "carpet"
           }
          ],
          "choropleth": [
           {
            "colorbar": {
             "outlinewidth": 0,
             "ticks": ""
            },
            "type": "choropleth"
           }
          ],
          "contour": [
           {
            "colorbar": {
             "outlinewidth": 0,
             "ticks": ""
            },
            "colorscale": [
             [
              0,
              "#0d0887"
             ],
             [
              0.1111111111111111,
              "#46039f"
             ],
             [
              0.2222222222222222,
              "#7201a8"
             ],
             [
              0.3333333333333333,
              "#9c179e"
             ],
             [
              0.4444444444444444,
              "#bd3786"
             ],
             [
              0.5555555555555556,
              "#d8576b"
             ],
             [
              0.6666666666666666,
              "#ed7953"
             ],
             [
              0.7777777777777778,
              "#fb9f3a"
             ],
             [
              0.8888888888888888,
              "#fdca26"
             ],
             [
              1,
              "#f0f921"
             ]
            ],
            "type": "contour"
           }
          ],
          "contourcarpet": [
           {
            "colorbar": {
             "outlinewidth": 0,
             "ticks": ""
            },
            "type": "contourcarpet"
           }
          ],
          "heatmap": [
           {
            "colorbar": {
             "outlinewidth": 0,
             "ticks": ""
            },
            "colorscale": [
             [
              0,
              "#0d0887"
             ],
             [
              0.1111111111111111,
              "#46039f"
             ],
             [
              0.2222222222222222,
              "#7201a8"
             ],
             [
              0.3333333333333333,
              "#9c179e"
             ],
             [
              0.4444444444444444,
              "#bd3786"
             ],
             [
              0.5555555555555556,
              "#d8576b"
             ],
             [
              0.6666666666666666,
              "#ed7953"
             ],
             [
              0.7777777777777778,
              "#fb9f3a"
             ],
             [
              0.8888888888888888,
              "#fdca26"
             ],
             [
              1,
              "#f0f921"
             ]
            ],
            "type": "heatmap"
           }
          ],
          "heatmapgl": [
           {
            "colorbar": {
             "outlinewidth": 0,
             "ticks": ""
            },
            "colorscale": [
             [
              0,
              "#0d0887"
             ],
             [
              0.1111111111111111,
              "#46039f"
             ],
             [
              0.2222222222222222,
              "#7201a8"
             ],
             [
              0.3333333333333333,
              "#9c179e"
             ],
             [
              0.4444444444444444,
              "#bd3786"
             ],
             [
              0.5555555555555556,
              "#d8576b"
             ],
             [
              0.6666666666666666,
              "#ed7953"
             ],
             [
              0.7777777777777778,
              "#fb9f3a"
             ],
             [
              0.8888888888888888,
              "#fdca26"
             ],
             [
              1,
              "#f0f921"
             ]
            ],
            "type": "heatmapgl"
           }
          ],
          "histogram": [
           {
            "marker": {
             "pattern": {
              "fillmode": "overlay",
              "size": 10,
              "solidity": 0.2
             }
            },
            "type": "histogram"
           }
          ],
          "histogram2d": [
           {
            "colorbar": {
             "outlinewidth": 0,
             "ticks": ""
            },
            "colorscale": [
             [
              0,
              "#0d0887"
             ],
             [
              0.1111111111111111,
              "#46039f"
             ],
             [
              0.2222222222222222,
              "#7201a8"
             ],
             [
              0.3333333333333333,
              "#9c179e"
             ],
             [
              0.4444444444444444,
              "#bd3786"
             ],
             [
              0.5555555555555556,
              "#d8576b"
             ],
             [
              0.6666666666666666,
              "#ed7953"
             ],
             [
              0.7777777777777778,
              "#fb9f3a"
             ],
             [
              0.8888888888888888,
              "#fdca26"
             ],
             [
              1,
              "#f0f921"
             ]
            ],
            "type": "histogram2d"
           }
          ],
          "histogram2dcontour": [
           {
            "colorbar": {
             "outlinewidth": 0,
             "ticks": ""
            },
            "colorscale": [
             [
              0,
              "#0d0887"
             ],
             [
              0.1111111111111111,
              "#46039f"
             ],
             [
              0.2222222222222222,
              "#7201a8"
             ],
             [
              0.3333333333333333,
              "#9c179e"
             ],
             [
              0.4444444444444444,
              "#bd3786"
             ],
             [
              0.5555555555555556,
              "#d8576b"
             ],
             [
              0.6666666666666666,
              "#ed7953"
             ],
             [
              0.7777777777777778,
              "#fb9f3a"
             ],
             [
              0.8888888888888888,
              "#fdca26"
             ],
             [
              1,
              "#f0f921"
             ]
            ],
            "type": "histogram2dcontour"
           }
          ],
          "mesh3d": [
           {
            "colorbar": {
             "outlinewidth": 0,
             "ticks": ""
            },
            "type": "mesh3d"
           }
          ],
          "parcoords": [
           {
            "line": {
             "colorbar": {
              "outlinewidth": 0,
              "ticks": ""
             }
            },
            "type": "parcoords"
           }
          ],
          "pie": [
           {
            "automargin": true,
            "type": "pie"
           }
          ],
          "scatter": [
           {
            "fillpattern": {
             "fillmode": "overlay",
             "size": 10,
             "solidity": 0.2
            },
            "type": "scatter"
           }
          ],
          "scatter3d": [
           {
            "line": {
             "colorbar": {
              "outlinewidth": 0,
              "ticks": ""
             }
            },
            "marker": {
             "colorbar": {
              "outlinewidth": 0,
              "ticks": ""
             }
            },
            "type": "scatter3d"
           }
          ],
          "scattercarpet": [
           {
            "marker": {
             "colorbar": {
              "outlinewidth": 0,
              "ticks": ""
             }
            },
            "type": "scattercarpet"
           }
          ],
          "scattergeo": [
           {
            "marker": {
             "colorbar": {
              "outlinewidth": 0,
              "ticks": ""
             }
            },
            "type": "scattergeo"
           }
          ],
          "scattergl": [
           {
            "marker": {
             "colorbar": {
              "outlinewidth": 0,
              "ticks": ""
             }
            },
            "type": "scattergl"
           }
          ],
          "scattermapbox": [
           {
            "marker": {
             "colorbar": {
              "outlinewidth": 0,
              "ticks": ""
             }
            },
            "type": "scattermapbox"
           }
          ],
          "scatterpolar": [
           {
            "marker": {
             "colorbar": {
              "outlinewidth": 0,
              "ticks": ""
             }
            },
            "type": "scatterpolar"
           }
          ],
          "scatterpolargl": [
           {
            "marker": {
             "colorbar": {
              "outlinewidth": 0,
              "ticks": ""
             }
            },
            "type": "scatterpolargl"
           }
          ],
          "scatterternary": [
           {
            "marker": {
             "colorbar": {
              "outlinewidth": 0,
              "ticks": ""
             }
            },
            "type": "scatterternary"
           }
          ],
          "surface": [
           {
            "colorbar": {
             "outlinewidth": 0,
             "ticks": ""
            },
            "colorscale": [
             [
              0,
              "#0d0887"
             ],
             [
              0.1111111111111111,
              "#46039f"
             ],
             [
              0.2222222222222222,
              "#7201a8"
             ],
             [
              0.3333333333333333,
              "#9c179e"
             ],
             [
              0.4444444444444444,
              "#bd3786"
             ],
             [
              0.5555555555555556,
              "#d8576b"
             ],
             [
              0.6666666666666666,
              "#ed7953"
             ],
             [
              0.7777777777777778,
              "#fb9f3a"
             ],
             [
              0.8888888888888888,
              "#fdca26"
             ],
             [
              1,
              "#f0f921"
             ]
            ],
            "type": "surface"
           }
          ],
          "table": [
           {
            "cells": {
             "fill": {
              "color": "#EBF0F8"
             },
             "line": {
              "color": "white"
             }
            },
            "header": {
             "fill": {
              "color": "#C8D4E3"
             },
             "line": {
              "color": "white"
             }
            },
            "type": "table"
           }
          ]
         },
         "layout": {
          "annotationdefaults": {
           "arrowcolor": "#2a3f5f",
           "arrowhead": 0,
           "arrowwidth": 1
          },
          "autotypenumbers": "strict",
          "coloraxis": {
           "colorbar": {
            "outlinewidth": 0,
            "ticks": ""
           }
          },
          "colorscale": {
           "diverging": [
            [
             0,
             "#8e0152"
            ],
            [
             0.1,
             "#c51b7d"
            ],
            [
             0.2,
             "#de77ae"
            ],
            [
             0.3,
             "#f1b6da"
            ],
            [
             0.4,
             "#fde0ef"
            ],
            [
             0.5,
             "#f7f7f7"
            ],
            [
             0.6,
             "#e6f5d0"
            ],
            [
             0.7,
             "#b8e186"
            ],
            [
             0.8,
             "#7fbc41"
            ],
            [
             0.9,
             "#4d9221"
            ],
            [
             1,
             "#276419"
            ]
           ],
           "sequential": [
            [
             0,
             "#0d0887"
            ],
            [
             0.1111111111111111,
             "#46039f"
            ],
            [
             0.2222222222222222,
             "#7201a8"
            ],
            [
             0.3333333333333333,
             "#9c179e"
            ],
            [
             0.4444444444444444,
             "#bd3786"
            ],
            [
             0.5555555555555556,
             "#d8576b"
            ],
            [
             0.6666666666666666,
             "#ed7953"
            ],
            [
             0.7777777777777778,
             "#fb9f3a"
            ],
            [
             0.8888888888888888,
             "#fdca26"
            ],
            [
             1,
             "#f0f921"
            ]
           ],
           "sequentialminus": [
            [
             0,
             "#0d0887"
            ],
            [
             0.1111111111111111,
             "#46039f"
            ],
            [
             0.2222222222222222,
             "#7201a8"
            ],
            [
             0.3333333333333333,
             "#9c179e"
            ],
            [
             0.4444444444444444,
             "#bd3786"
            ],
            [
             0.5555555555555556,
             "#d8576b"
            ],
            [
             0.6666666666666666,
             "#ed7953"
            ],
            [
             0.7777777777777778,
             "#fb9f3a"
            ],
            [
             0.8888888888888888,
             "#fdca26"
            ],
            [
             1,
             "#f0f921"
            ]
           ]
          },
          "colorway": [
           "#636efa",
           "#EF553B",
           "#00cc96",
           "#ab63fa",
           "#FFA15A",
           "#19d3f3",
           "#FF6692",
           "#B6E880",
           "#FF97FF",
           "#FECB52"
          ],
          "font": {
           "color": "#2a3f5f"
          },
          "geo": {
           "bgcolor": "white",
           "lakecolor": "white",
           "landcolor": "#E5ECF6",
           "showlakes": true,
           "showland": true,
           "subunitcolor": "white"
          },
          "hoverlabel": {
           "align": "left"
          },
          "hovermode": "closest",
          "mapbox": {
           "style": "light"
          },
          "paper_bgcolor": "white",
          "plot_bgcolor": "#E5ECF6",
          "polar": {
           "angularaxis": {
            "gridcolor": "white",
            "linecolor": "white",
            "ticks": ""
           },
           "bgcolor": "#E5ECF6",
           "radialaxis": {
            "gridcolor": "white",
            "linecolor": "white",
            "ticks": ""
           }
          },
          "scene": {
           "xaxis": {
            "backgroundcolor": "#E5ECF6",
            "gridcolor": "white",
            "gridwidth": 2,
            "linecolor": "white",
            "showbackground": true,
            "ticks": "",
            "zerolinecolor": "white"
           },
           "yaxis": {
            "backgroundcolor": "#E5ECF6",
            "gridcolor": "white",
            "gridwidth": 2,
            "linecolor": "white",
            "showbackground": true,
            "ticks": "",
            "zerolinecolor": "white"
           },
           "zaxis": {
            "backgroundcolor": "#E5ECF6",
            "gridcolor": "white",
            "gridwidth": 2,
            "linecolor": "white",
            "showbackground": true,
            "ticks": "",
            "zerolinecolor": "white"
           }
          },
          "shapedefaults": {
           "line": {
            "color": "#2a3f5f"
           }
          },
          "ternary": {
           "aaxis": {
            "gridcolor": "white",
            "linecolor": "white",
            "ticks": ""
           },
           "baxis": {
            "gridcolor": "white",
            "linecolor": "white",
            "ticks": ""
           },
           "bgcolor": "#E5ECF6",
           "caxis": {
            "gridcolor": "white",
            "linecolor": "white",
            "ticks": ""
           }
          },
          "title": {
           "x": 0.05
          },
          "xaxis": {
           "automargin": true,
           "gridcolor": "white",
           "linecolor": "white",
           "ticks": "",
           "title": {
            "standoff": 15
           },
           "zerolinecolor": "white",
           "zerolinewidth": 2
          },
          "yaxis": {
           "automargin": true,
           "gridcolor": "white",
           "linecolor": "white",
           "ticks": "",
           "title": {
            "standoff": 15
           },
           "zerolinecolor": "white",
           "zerolinewidth": 2
          }
         }
        },
        "title": {
         "text": "Stations around <b>TotalEnergies Erkrath</b>"
        }
       }
      }
     },
     "metadata": {},
     "output_type": "display_data"
    }
   ],
   "source": [
    "# enter a station's uuid to center the map view on it\n",
    "# and inspect its surroundings\n",
    "\n",
    "focus_uuid = \"64ec825f-740c-477a-b7c2-2121154ee8a7\"\n",
    "title = f\"Stations around <b>{stations_indexed.query('uuid == @focus_uuid')['name'][0]}</b>\"\n",
    "\n",
    "px.scatter_mapbox(stations_indexed, \n",
    "                  lat=\"latitude\", \n",
    "                  lon=\"longitude\",\n",
    "                  hover_name=stations_indexed.index,\n",
    "                  hover_data=stations_indexed[[\"name\",\"brand\"]],\n",
    "                  mapbox_style=\"carto-positron\",\n",
    "                  color=\"brand\",\n",
    "                  color_discrete_sequence=px.colors.qualitative.G10,\n",
    "                  zoom=12,\n",
    "                  center={\"lat\":stations_indexed.query(\"uuid == @focus_uuid\")[\"latitude\"][0],\n",
    "                          \"lon\":stations_indexed.query(\"uuid == @focus_uuid\")[\"longitude\"][0]},\n",
    "                  height=800,\n",
    "                  title=title)"
   ]
  },
  {
   "attachments": {},
   "cell_type": "markdown",
   "metadata": {},
   "source": [
    "## See all stations of one brand"
   ]
  },
  {
   "cell_type": "code",
   "execution_count": 31,
   "metadata": {},
   "outputs": [
    {
     "data": {
      "text/plain": [
       "array(['TotalEnergies', 'Shell', 'ARAL', 'OIL!', 'ESSO', 'ELAN', 'HEM',\n",
       "       'Sprint', 'AVIA', 'TOTAL', 'Freie Tankstelle', nan, 'CleanCar AG',\n",
       "       'JET', 'PM', 'SB', 'Mr. Wash Autoservice AG', 'Tankpoint',\n",
       "       'SVG Düsseldorf', 'STAR', 'Q1', 'ORLEN', 'Supermarkt-Tankstelle',\n",
       "       'Tramin City Tank', 'Markant (Tankautomat)'], dtype=object)"
      ]
     },
     "execution_count": 31,
     "metadata": {},
     "output_type": "execute_result"
    }
   ],
   "source": [
    "# see what brands are there\n",
    "stations_indexed[\"brand\"].unique()"
   ]
  },
  {
   "cell_type": "code",
   "execution_count": 65,
   "metadata": {},
   "outputs": [
    {
     "data": {
      "application/vnd.plotly.v1+json": {
       "config": {
        "plotlyServerURL": "https://plot.ly"
       },
       "data": [
        {
         "customdata": [
          [
           "Shell Duesseldorf Karlsruher Str. 45",
           "Shell"
          ],
          [
           "Shell Duesseldorf Suedring 9",
           "Shell"
          ],
          [
           "Shell Duesseldorf Koelner Landstr. 73",
           "Shell"
          ],
          [
           "Shell Duesseldorf Kruppstr. 55",
           "Shell"
          ],
          [
           "Shell Duesseldorf Caecilienstr. 30",
           "Shell"
          ],
          [
           "Shell Duesseldorf Aufm Hennekamp 5",
           "Shell"
          ],
          [
           "Shell Hilden Walder Str. 425",
           "Shell"
          ],
          [
           "Shell Meerbusch Neusser Str. 19b",
           "Shell"
          ],
          [
           "Shell Ratingen Speestr.",
           "Shell"
          ],
          [
           "Shell Neuss Düsseldorferstr. 67",
           "Shell"
          ],
          [
           "Shell Duesseldorf Muensterstr. 328",
           "Shell"
          ],
          [
           "RATINGEN, BAT HÖSEL (OSTSEIT",
           "Shell"
          ],
          [
           "DUESSELDORF, GRAFENBERGER ALLEE",
           "Shell"
          ],
          [
           "DUESSELDORF, VOELKLINGER STR.",
           "Shell"
          ],
          [
           "Shell Duesseldorf Henkelstr. 306",
           "Shell"
          ],
          [
           "Shell Duesseldorf Kieshecker Weg 256",
           "Shell"
          ],
          [
           "Shell Ratingen Brachter Str. 36",
           "Shell"
          ],
          [
           "Shell Duesseldorf Fischerstr. 9-15",
           "Shell"
          ],
          [
           "Shell Duesseldorf Niederrheinstr. 135",
           "Shell"
          ],
          [
           "Shell Erkrath Max-Planck-Str. 81",
           "Shell"
          ],
          [
           "Shell Hilden Hochdahler Str. 192",
           "Shell"
          ],
          [
           "Shell Duesseldorf Ronsdorfer Str. 95",
           "Shell"
          ],
          [
           "Shell Neuss Bergheimer Str. 415",
           "Shell"
          ],
          [
           "Shell Neuss Juelicher Land 115",
           "Shell"
          ],
          [
           "Shell Duesseldorf Frankfurter Str 197",
           "Shell"
          ],
          [
           "Shell Meerbusch Xantener Str. 49",
           "Shell"
          ]
         ],
         "hovertemplate": "<b>%{hovertext}</b><br><br>brand=%{customdata[1]}<br>latitude=%{lat}<br>longitude=%{lon}<br>name=%{customdata[0]}<extra></extra>",
         "hovertext": [
          "fd99c048-3b6b-4943-8b93-838daefba76b",
          "8d3cd774-8fb2-41d4-856a-26b299bfb8d8",
          "69d4d0be-ab2b-4e65-ac9e-2a1fca892e90",
          "ce4a5ad3-003a-490b-92b4-c00d5a17ce1b",
          "bc554df8-1200-4072-9afc-5759e749b43d",
          "b30c887a-3f9b-4890-a2c1-60b5f09d98b6",
          "e6c55dfa-c64b-44e1-913b-58e216d614e5",
          "e9dbe860-031d-42d2-a96c-8a958df9f764",
          "c73fa27f-764e-44c3-9e2d-73d6faa8ae84",
          "fa6624d4-7bb9-4b17-9e56-31e0040428d1",
          "a51fe747-5541-45fc-a225-7e73d1b3df8a",
          "b605dd15-57f6-495a-b1f9-645731f11272",
          "9f1a9948-4a60-4db6-8ac5-0fdffcf51613",
          "2211d99b-c1c3-4316-bcff-a38eb5f0135f",
          "21a4932a-9cea-4fac-bdd1-c305bf6ade43",
          "8917c28b-b08d-4b97-8219-43ecb69079bb",
          "e7807347-796f-4aac-997d-07d0c988e109",
          "98cc4474-55f0-4b23-a643-8687ad5853ec",
          "9791361c-7a76-4175-adc9-3104bbdf3ebd",
          "90c3884d-9008-46e9-9379-c1061c0dee87",
          "32647103-5179-436f-82fd-f7407590a226",
          "d8d18039-46e8-4e65-8815-37d83b2dc5ac",
          "19c2a927-ba55-4480-9606-9388bc51ace8",
          "1b3938ef-cd3a-499a-9a67-e73af8a56739",
          "05587e8f-e6b4-4a55-93cd-917b5d37a35a",
          "d08f7052-f3cf-4374-b96b-ee46b55adfcd"
         ],
         "lat": [
          51.197512,
          51.200851,
          51.193808,
          51.21279,
          51.165996,
          51.202396,
          51.167922,
          51.242918,
          51.336911,
          51.214256,
          51.252562,
          51.325534,
          51.234072,
          51.209977,
          51.179044,
          51.2804,
          51.295287,
          51.236184,
          51.278118,
          51.200445,
          51.179856,
          51.217023,
          51.173392,
          51.183771,
          51.149599,
          51.285218
         ],
         "legendgroup": "Shell",
         "lon": [
          6.841084,
          6.774994,
          6.813494,
          6.797591,
          6.873567,
          6.781376,
          6.983746,
          6.698049,
          6.83471,
          6.693751,
          6.80165,
          6.891643,
          6.816542,
          6.758835,
          6.859483,
          6.772591,
          6.914963,
          6.777523,
          6.741879,
          6.93931,
          6.939318,
          6.818992,
          6.686733,
          6.678931,
          6.894037,
          6.659646
         ],
         "marker": {
          "color": "#3366CC"
         },
         "mode": "markers",
         "name": "Shell",
         "showlegend": true,
         "subplot": "mapbox",
         "type": "scattermapbox"
        },
        {
         "customdata": [
          [
           "Aral Tankstelle",
           "ARAL"
          ],
          [
           "Aral Tankstelle",
           "ARAL"
          ],
          [
           "Aral Tankstelle",
           "ARAL"
          ],
          [
           "Aral Tankstelle",
           "ARAL"
          ],
          [
           "Aral Tankstelle",
           "ARAL"
          ],
          [
           "Aral Tankstelle",
           "ARAL"
          ],
          [
           "Aral Tankstelle",
           "ARAL"
          ],
          [
           "Aral Tankstelle",
           "ARAL"
          ],
          [
           "Aral Tankstelle",
           "ARAL"
          ],
          [
           "Aral Tankstelle",
           "ARAL"
          ],
          [
           "Aral Tankstelle",
           "ARAL"
          ],
          [
           "Aral Tankstelle",
           "ARAL"
          ],
          [
           "Aral Tankstelle",
           "ARAL"
          ],
          [
           "Aral Tankstelle",
           "ARAL"
          ],
          [
           "Aral Tankstelle",
           "ARAL"
          ],
          [
           "Aral Tankstelle",
           "ARAL"
          ],
          [
           "Aral Tankstelle",
           "ARAL"
          ],
          [
           "Aral Tankstelle",
           "ARAL"
          ],
          [
           "Aral Tankstelle",
           "ARAL"
          ],
          [
           "Aral Tankstelle",
           "ARAL"
          ],
          [
           "Aral Tankstelle",
           "ARAL"
          ],
          [
           "Aral Tankstelle",
           "ARAL"
          ],
          [
           "AH Hohenstein",
           "ARAL"
          ],
          [
           "Aral Tankstelle, Ratingen Hohenstein",
           "ARAL"
          ]
         ],
         "hovertemplate": "<b>%{hovertext}</b><br><br>brand=%{customdata[1]}<br>latitude=%{lat}<br>longitude=%{lon}<br>name=%{customdata[0]}<extra></extra>",
         "hovertext": [
          "1241bc5a-5571-4cee-bce0-d0ab82000d8c",
          "127035c1-a7c7-41db-9976-ab4cd14b7271",
          "d7376c09-b449-4948-8706-15777971f03c",
          "9533193d-3024-4fe2-a0c3-c6d660087112",
          "cba0a43e-e52f-476a-a047-8f7138f3f646",
          "14a9f9a8-fb49-45fc-b946-51c791e60990",
          "e1dc26cc-82e0-4d77-b6ac-9af9d7c0832a",
          "f027019a-34a2-45e8-b051-9270f8634cf7",
          "cb138b9c-6bbb-4394-8db2-cdd480e4e7c5",
          "748b6d98-64f6-4030-86c7-26887a915eb3",
          "7d09ea41-77b4-4e0a-b2e1-5611b990ca3c",
          "86f4e629-3746-4f9f-8cf9-989cf6367afa",
          "44afad52-0417-459c-9951-8ba9457c2092",
          "9d92e206-e5b7-4820-8cc0-709112aabca0",
          "aa221bd6-3dd1-47ec-a935-e06d4c779a57",
          "b5a6d284-d502-425f-bd11-f8acfe874239",
          "39add580-4053-4eb2-8a4a-2744c249c48c",
          "529b7b56-0ff8-4f37-b116-d3b0144bf207",
          "61f82d94-1280-4fbe-9c36-e3c40d6967ea",
          "4c3ce577-f3db-428c-b5ff-d544c8e8349d",
          "c21ccfa9-5071-4801-a8ad-4653172bf4b6",
          "a47189f4-0947-4601-ae8e-01c599ba3b66",
          "011ba4a2-c12b-4d3f-a96d-8cbf1d1e8585",
          "da6f245b-5aa2-419c-b00e-5daf159bdfc1"
         ],
         "lat": [
          51.20101,
          51.2071037,
          51.1380043,
          51.288662,
          51.18164,
          51.33845,
          51.2333336,
          51.2044067,
          51.28516,
          51.1690521,
          51.24112,
          51.2479172,
          51.2650871,
          51.23985,
          51.2095375,
          51.2415924,
          51.15772,
          51.1704254,
          51.26051,
          51.1742744,
          51.21241,
          51.20161,
          51.29028,
          51.2905464
         ],
         "legendgroup": "ARAL",
         "lon": [
          6.763259,
          6.671111,
          6.904963,
          6.827508,
          6.688258,
          6.869088,
          6.727858,
          6.97023,
          6.659503,
          6.822734,
          6.743643,
          6.801548,
          6.753424,
          6.744074,
          6.810053,
          6.797076,
          6.731179,
          6.859408,
          6.908724,
          6.737947,
          6.857821,
          6.904797,
          6.804525,
          6.8044
         ],
         "marker": {
          "color": "#DC3912"
         },
         "mode": "markers",
         "name": "ARAL",
         "showlegend": true,
         "subplot": "mapbox",
         "type": "scattermapbox"
        },
        {
         "customdata": [
          [
           "Esso Tankstelle",
           "ESSO"
          ],
          [
           "Esso Tankstelle",
           "ESSO"
          ],
          [
           "Esso Tankstelle",
           "ESSO"
          ],
          [
           "Esso Tankstelle",
           "ESSO"
          ],
          [
           "Esso Tankstelle",
           "ESSO"
          ],
          [
           "Esso Tankstelle",
           "ESSO"
          ],
          [
           "Esso Tankstelle",
           "ESSO"
          ],
          [
           "Esso Tankstelle",
           "ESSO"
          ],
          [
           "Esso Tankstelle",
           "ESSO"
          ],
          [
           "Esso Tankstelle",
           "ESSO"
          ],
          [
           "Esso Tankstelle",
           "ESSO"
          ],
          [
           "Esso Tankstelle",
           "ESSO"
          ],
          [
           "Esso Tankstelle",
           "ESSO"
          ],
          [
           "Esso Tankstelle",
           "ESSO"
          ],
          [
           "Esso Tankstelle",
           "ESSO"
          ],
          [
           "Esso Tankstelle",
           "ESSO"
          ],
          [
           "Esso Tankstelle",
           "ESSO"
          ],
          [
           "Esso Tankstelle",
           "ESSO"
          ],
          [
           "Esso Tankstelle",
           "ESSO"
          ],
          [
           "Esso Tankstelle",
           "ESSO"
          ],
          [
           "Esso Tankstelle",
           "ESSO"
          ]
         ],
         "hovertemplate": "<b>%{hovertext}</b><br><br>brand=%{customdata[1]}<br>latitude=%{lat}<br>longitude=%{lon}<br>name=%{customdata[0]}<extra></extra>",
         "hovertext": [
          "a9b14f40-30ee-4550-b998-55f2981c6025",
          "e43c09b0-5baa-4738-962a-c94388e93c30",
          "72f7a2d4-1b77-4556-a45e-8abfb804fb3b",
          "48f7ddf7-1ef2-4e29-b62b-556f4c7193f0",
          "8ff8a3d4-184d-4676-8906-34bfcc752423",
          "f13e6623-a528-46e2-9b40-e0b8ebde0504",
          "bf8bcacf-84c0-4581-9c85-55d2f1e5a003",
          "af55b83b-f6d2-4bf0-912d-b89156ade413",
          "d2809537-9960-48ff-ba5c-b471666e414a",
          "c27625b7-9c45-4260-8cd1-cd3543dd2ad2",
          "7e4c09ab-ab7d-4a13-af99-d043a611e410",
          "a84e1f3f-768a-4106-b77e-3697a0f96a8e",
          "9f2b85c2-f137-4f96-b4e4-240bd3bfdc8b",
          "30041ebf-0cd8-4b3b-ba03-f1f0aca560df",
          "11b29c87-d728-4365-95c5-39c5a52418d5",
          "646a461e-2341-4b5f-8f8b-09edc8f7d22c",
          "6036f1bd-e690-4518-bc99-733759d2f8c1",
          "5e3c22de-18c6-4715-aa36-bc61244fd431",
          "0e4d959e-743d-41fd-8323-b435a0b458ba",
          "dc7f0632-974c-4e2f-a64b-e4f3ea027b46",
          "82119d5d-775f-42af-ac56-000d7c91413f"
         ],
         "lat": [
          51.247859,
          51.338806,
          51.281741,
          51.259169,
          51.207562,
          51.323081,
          51.261017,
          51.246959,
          51.181511,
          51.202875,
          51.289585,
          51.310723,
          51.303487,
          51.226825,
          51.19882,
          51.254336,
          51.245674,
          51.303623,
          51.16631,
          51.18888,
          51.3255079
         ],
         "legendgroup": "ESSO",
         "lon": [
          6.796692,
          6.868755,
          6.794695,
          6.778564,
          6.766873,
          6.770117,
          6.796505,
          6.777341,
          6.9401,
          6.785273,
          6.838902,
          6.678184,
          6.671054,
          6.857289,
          6.71043,
          6.782436,
          6.854814,
          6.740373,
          6.733911,
          6.864575,
          6.8917528
         ],
         "marker": {
          "color": "#FF9900"
         },
         "mode": "markers",
         "name": "ESSO",
         "showlegend": true,
         "subplot": "mapbox",
         "type": "scattermapbox"
        }
       ],
       "layout": {
        "height": 800,
        "legend": {
         "title": {
          "text": "brand"
         },
         "tracegroupgap": 0
        },
        "mapbox": {
         "center": {
          "lat": 51.23422388309859,
          "lon": 6.80149584225352
         },
         "domain": {
          "x": [
           0,
           1
          ],
          "y": [
           0,
           1
          ]
         },
         "style": "carto-positron",
         "zoom": 11
        },
        "template": {
         "data": {
          "bar": [
           {
            "error_x": {
             "color": "#2a3f5f"
            },
            "error_y": {
             "color": "#2a3f5f"
            },
            "marker": {
             "line": {
              "color": "#E5ECF6",
              "width": 0.5
             },
             "pattern": {
              "fillmode": "overlay",
              "size": 10,
              "solidity": 0.2
             }
            },
            "type": "bar"
           }
          ],
          "barpolar": [
           {
            "marker": {
             "line": {
              "color": "#E5ECF6",
              "width": 0.5
             },
             "pattern": {
              "fillmode": "overlay",
              "size": 10,
              "solidity": 0.2
             }
            },
            "type": "barpolar"
           }
          ],
          "carpet": [
           {
            "aaxis": {
             "endlinecolor": "#2a3f5f",
             "gridcolor": "white",
             "linecolor": "white",
             "minorgridcolor": "white",
             "startlinecolor": "#2a3f5f"
            },
            "baxis": {
             "endlinecolor": "#2a3f5f",
             "gridcolor": "white",
             "linecolor": "white",
             "minorgridcolor": "white",
             "startlinecolor": "#2a3f5f"
            },
            "type": "carpet"
           }
          ],
          "choropleth": [
           {
            "colorbar": {
             "outlinewidth": 0,
             "ticks": ""
            },
            "type": "choropleth"
           }
          ],
          "contour": [
           {
            "colorbar": {
             "outlinewidth": 0,
             "ticks": ""
            },
            "colorscale": [
             [
              0,
              "#0d0887"
             ],
             [
              0.1111111111111111,
              "#46039f"
             ],
             [
              0.2222222222222222,
              "#7201a8"
             ],
             [
              0.3333333333333333,
              "#9c179e"
             ],
             [
              0.4444444444444444,
              "#bd3786"
             ],
             [
              0.5555555555555556,
              "#d8576b"
             ],
             [
              0.6666666666666666,
              "#ed7953"
             ],
             [
              0.7777777777777778,
              "#fb9f3a"
             ],
             [
              0.8888888888888888,
              "#fdca26"
             ],
             [
              1,
              "#f0f921"
             ]
            ],
            "type": "contour"
           }
          ],
          "contourcarpet": [
           {
            "colorbar": {
             "outlinewidth": 0,
             "ticks": ""
            },
            "type": "contourcarpet"
           }
          ],
          "heatmap": [
           {
            "colorbar": {
             "outlinewidth": 0,
             "ticks": ""
            },
            "colorscale": [
             [
              0,
              "#0d0887"
             ],
             [
              0.1111111111111111,
              "#46039f"
             ],
             [
              0.2222222222222222,
              "#7201a8"
             ],
             [
              0.3333333333333333,
              "#9c179e"
             ],
             [
              0.4444444444444444,
              "#bd3786"
             ],
             [
              0.5555555555555556,
              "#d8576b"
             ],
             [
              0.6666666666666666,
              "#ed7953"
             ],
             [
              0.7777777777777778,
              "#fb9f3a"
             ],
             [
              0.8888888888888888,
              "#fdca26"
             ],
             [
              1,
              "#f0f921"
             ]
            ],
            "type": "heatmap"
           }
          ],
          "heatmapgl": [
           {
            "colorbar": {
             "outlinewidth": 0,
             "ticks": ""
            },
            "colorscale": [
             [
              0,
              "#0d0887"
             ],
             [
              0.1111111111111111,
              "#46039f"
             ],
             [
              0.2222222222222222,
              "#7201a8"
             ],
             [
              0.3333333333333333,
              "#9c179e"
             ],
             [
              0.4444444444444444,
              "#bd3786"
             ],
             [
              0.5555555555555556,
              "#d8576b"
             ],
             [
              0.6666666666666666,
              "#ed7953"
             ],
             [
              0.7777777777777778,
              "#fb9f3a"
             ],
             [
              0.8888888888888888,
              "#fdca26"
             ],
             [
              1,
              "#f0f921"
             ]
            ],
            "type": "heatmapgl"
           }
          ],
          "histogram": [
           {
            "marker": {
             "pattern": {
              "fillmode": "overlay",
              "size": 10,
              "solidity": 0.2
             }
            },
            "type": "histogram"
           }
          ],
          "histogram2d": [
           {
            "colorbar": {
             "outlinewidth": 0,
             "ticks": ""
            },
            "colorscale": [
             [
              0,
              "#0d0887"
             ],
             [
              0.1111111111111111,
              "#46039f"
             ],
             [
              0.2222222222222222,
              "#7201a8"
             ],
             [
              0.3333333333333333,
              "#9c179e"
             ],
             [
              0.4444444444444444,
              "#bd3786"
             ],
             [
              0.5555555555555556,
              "#d8576b"
             ],
             [
              0.6666666666666666,
              "#ed7953"
             ],
             [
              0.7777777777777778,
              "#fb9f3a"
             ],
             [
              0.8888888888888888,
              "#fdca26"
             ],
             [
              1,
              "#f0f921"
             ]
            ],
            "type": "histogram2d"
           }
          ],
          "histogram2dcontour": [
           {
            "colorbar": {
             "outlinewidth": 0,
             "ticks": ""
            },
            "colorscale": [
             [
              0,
              "#0d0887"
             ],
             [
              0.1111111111111111,
              "#46039f"
             ],
             [
              0.2222222222222222,
              "#7201a8"
             ],
             [
              0.3333333333333333,
              "#9c179e"
             ],
             [
              0.4444444444444444,
              "#bd3786"
             ],
             [
              0.5555555555555556,
              "#d8576b"
             ],
             [
              0.6666666666666666,
              "#ed7953"
             ],
             [
              0.7777777777777778,
              "#fb9f3a"
             ],
             [
              0.8888888888888888,
              "#fdca26"
             ],
             [
              1,
              "#f0f921"
             ]
            ],
            "type": "histogram2dcontour"
           }
          ],
          "mesh3d": [
           {
            "colorbar": {
             "outlinewidth": 0,
             "ticks": ""
            },
            "type": "mesh3d"
           }
          ],
          "parcoords": [
           {
            "line": {
             "colorbar": {
              "outlinewidth": 0,
              "ticks": ""
             }
            },
            "type": "parcoords"
           }
          ],
          "pie": [
           {
            "automargin": true,
            "type": "pie"
           }
          ],
          "scatter": [
           {
            "fillpattern": {
             "fillmode": "overlay",
             "size": 10,
             "solidity": 0.2
            },
            "type": "scatter"
           }
          ],
          "scatter3d": [
           {
            "line": {
             "colorbar": {
              "outlinewidth": 0,
              "ticks": ""
             }
            },
            "marker": {
             "colorbar": {
              "outlinewidth": 0,
              "ticks": ""
             }
            },
            "type": "scatter3d"
           }
          ],
          "scattercarpet": [
           {
            "marker": {
             "colorbar": {
              "outlinewidth": 0,
              "ticks": ""
             }
            },
            "type": "scattercarpet"
           }
          ],
          "scattergeo": [
           {
            "marker": {
             "colorbar": {
              "outlinewidth": 0,
              "ticks": ""
             }
            },
            "type": "scattergeo"
           }
          ],
          "scattergl": [
           {
            "marker": {
             "colorbar": {
              "outlinewidth": 0,
              "ticks": ""
             }
            },
            "type": "scattergl"
           }
          ],
          "scattermapbox": [
           {
            "marker": {
             "colorbar": {
              "outlinewidth": 0,
              "ticks": ""
             }
            },
            "type": "scattermapbox"
           }
          ],
          "scatterpolar": [
           {
            "marker": {
             "colorbar": {
              "outlinewidth": 0,
              "ticks": ""
             }
            },
            "type": "scatterpolar"
           }
          ],
          "scatterpolargl": [
           {
            "marker": {
             "colorbar": {
              "outlinewidth": 0,
              "ticks": ""
             }
            },
            "type": "scatterpolargl"
           }
          ],
          "scatterternary": [
           {
            "marker": {
             "colorbar": {
              "outlinewidth": 0,
              "ticks": ""
             }
            },
            "type": "scatterternary"
           }
          ],
          "surface": [
           {
            "colorbar": {
             "outlinewidth": 0,
             "ticks": ""
            },
            "colorscale": [
             [
              0,
              "#0d0887"
             ],
             [
              0.1111111111111111,
              "#46039f"
             ],
             [
              0.2222222222222222,
              "#7201a8"
             ],
             [
              0.3333333333333333,
              "#9c179e"
             ],
             [
              0.4444444444444444,
              "#bd3786"
             ],
             [
              0.5555555555555556,
              "#d8576b"
             ],
             [
              0.6666666666666666,
              "#ed7953"
             ],
             [
              0.7777777777777778,
              "#fb9f3a"
             ],
             [
              0.8888888888888888,
              "#fdca26"
             ],
             [
              1,
              "#f0f921"
             ]
            ],
            "type": "surface"
           }
          ],
          "table": [
           {
            "cells": {
             "fill": {
              "color": "#EBF0F8"
             },
             "line": {
              "color": "white"
             }
            },
            "header": {
             "fill": {
              "color": "#C8D4E3"
             },
             "line": {
              "color": "white"
             }
            },
            "type": "table"
           }
          ]
         },
         "layout": {
          "annotationdefaults": {
           "arrowcolor": "#2a3f5f",
           "arrowhead": 0,
           "arrowwidth": 1
          },
          "autotypenumbers": "strict",
          "coloraxis": {
           "colorbar": {
            "outlinewidth": 0,
            "ticks": ""
           }
          },
          "colorscale": {
           "diverging": [
            [
             0,
             "#8e0152"
            ],
            [
             0.1,
             "#c51b7d"
            ],
            [
             0.2,
             "#de77ae"
            ],
            [
             0.3,
             "#f1b6da"
            ],
            [
             0.4,
             "#fde0ef"
            ],
            [
             0.5,
             "#f7f7f7"
            ],
            [
             0.6,
             "#e6f5d0"
            ],
            [
             0.7,
             "#b8e186"
            ],
            [
             0.8,
             "#7fbc41"
            ],
            [
             0.9,
             "#4d9221"
            ],
            [
             1,
             "#276419"
            ]
           ],
           "sequential": [
            [
             0,
             "#0d0887"
            ],
            [
             0.1111111111111111,
             "#46039f"
            ],
            [
             0.2222222222222222,
             "#7201a8"
            ],
            [
             0.3333333333333333,
             "#9c179e"
            ],
            [
             0.4444444444444444,
             "#bd3786"
            ],
            [
             0.5555555555555556,
             "#d8576b"
            ],
            [
             0.6666666666666666,
             "#ed7953"
            ],
            [
             0.7777777777777778,
             "#fb9f3a"
            ],
            [
             0.8888888888888888,
             "#fdca26"
            ],
            [
             1,
             "#f0f921"
            ]
           ],
           "sequentialminus": [
            [
             0,
             "#0d0887"
            ],
            [
             0.1111111111111111,
             "#46039f"
            ],
            [
             0.2222222222222222,
             "#7201a8"
            ],
            [
             0.3333333333333333,
             "#9c179e"
            ],
            [
             0.4444444444444444,
             "#bd3786"
            ],
            [
             0.5555555555555556,
             "#d8576b"
            ],
            [
             0.6666666666666666,
             "#ed7953"
            ],
            [
             0.7777777777777778,
             "#fb9f3a"
            ],
            [
             0.8888888888888888,
             "#fdca26"
            ],
            [
             1,
             "#f0f921"
            ]
           ]
          },
          "colorway": [
           "#636efa",
           "#EF553B",
           "#00cc96",
           "#ab63fa",
           "#FFA15A",
           "#19d3f3",
           "#FF6692",
           "#B6E880",
           "#FF97FF",
           "#FECB52"
          ],
          "font": {
           "color": "#2a3f5f"
          },
          "geo": {
           "bgcolor": "white",
           "lakecolor": "white",
           "landcolor": "#E5ECF6",
           "showlakes": true,
           "showland": true,
           "subunitcolor": "white"
          },
          "hoverlabel": {
           "align": "left"
          },
          "hovermode": "closest",
          "mapbox": {
           "style": "light"
          },
          "paper_bgcolor": "white",
          "plot_bgcolor": "#E5ECF6",
          "polar": {
           "angularaxis": {
            "gridcolor": "white",
            "linecolor": "white",
            "ticks": ""
           },
           "bgcolor": "#E5ECF6",
           "radialaxis": {
            "gridcolor": "white",
            "linecolor": "white",
            "ticks": ""
           }
          },
          "scene": {
           "xaxis": {
            "backgroundcolor": "#E5ECF6",
            "gridcolor": "white",
            "gridwidth": 2,
            "linecolor": "white",
            "showbackground": true,
            "ticks": "",
            "zerolinecolor": "white"
           },
           "yaxis": {
            "backgroundcolor": "#E5ECF6",
            "gridcolor": "white",
            "gridwidth": 2,
            "linecolor": "white",
            "showbackground": true,
            "ticks": "",
            "zerolinecolor": "white"
           },
           "zaxis": {
            "backgroundcolor": "#E5ECF6",
            "gridcolor": "white",
            "gridwidth": 2,
            "linecolor": "white",
            "showbackground": true,
            "ticks": "",
            "zerolinecolor": "white"
           }
          },
          "shapedefaults": {
           "line": {
            "color": "#2a3f5f"
           }
          },
          "ternary": {
           "aaxis": {
            "gridcolor": "white",
            "linecolor": "white",
            "ticks": ""
           },
           "baxis": {
            "gridcolor": "white",
            "linecolor": "white",
            "ticks": ""
           },
           "bgcolor": "#E5ECF6",
           "caxis": {
            "gridcolor": "white",
            "linecolor": "white",
            "ticks": ""
           }
          },
          "title": {
           "x": 0.05
          },
          "xaxis": {
           "automargin": true,
           "gridcolor": "white",
           "linecolor": "white",
           "ticks": "",
           "title": {
            "standoff": 15
           },
           "zerolinecolor": "white",
           "zerolinewidth": 2
          },
          "yaxis": {
           "automargin": true,
           "gridcolor": "white",
           "linecolor": "white",
           "ticks": "",
           "title": {
            "standoff": 15
           },
           "zerolinecolor": "white",
           "zerolinewidth": 2
          }
         }
        },
        "title": {
         "text": "Stations by BRAND"
        }
       }
      }
     },
     "metadata": {},
     "output_type": "display_data"
    }
   ],
   "source": [
    "# define brands to filter on\n",
    "my_brands = [\"ARAL\", \"ESSO\", \"Shell\"]\n",
    "stations_brand_filtered = stations_indexed.query(\"brand == @my_brands\")\n",
    "\n",
    "px.scatter_mapbox(stations_brand_filtered, \n",
    "                  lat=\"latitude\", \n",
    "                  lon=\"longitude\",\n",
    "                  hover_name=stations_brand_filtered.index,\n",
    "                  hover_data=stations_brand_filtered[[\"name\",\"brand\"]],\n",
    "                  mapbox_style=\"carto-positron\",\n",
    "                  color=\"brand\",\n",
    "                  color_discrete_sequence=px.colors.qualitative.G10,\n",
    "                  zoom=11,\n",
    "                  height=800,\n",
    "                  title=\"Stations by BRAND\")"
   ]
  }
 ],
 "metadata": {
  "kernelspec": {
   "display_name": "Python 3",
   "language": "python",
   "name": "python3"
  },
  "language_info": {
   "codemirror_mode": {
    "name": "ipython",
    "version": 3
   },
   "file_extension": ".py",
   "mimetype": "text/x-python",
   "name": "python",
   "nbconvert_exporter": "python",
   "pygments_lexer": "ipython3",
   "version": "3.9.8"
  },
  "orig_nbformat": 4
 },
 "nbformat": 4,
 "nbformat_minor": 2
}
